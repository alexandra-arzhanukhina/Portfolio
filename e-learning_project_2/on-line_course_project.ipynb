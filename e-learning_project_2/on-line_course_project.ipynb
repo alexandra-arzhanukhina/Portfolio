{
 "cells": [
  {
   "cell_type": "markdown",
   "metadata": {},
   "source": [
    "# Финальный проект\n",
    "\n",
    "## Общее описание:\n",
    "### Задание 1. A/B–тестирование\n",
    "\n",
    "1. Условие\n",
    "\n",
    "Одной из основных задач аналитикака в нашей команде является корректное проведение экспериментов. Для этого мы применяем метод A/B–тестирования. В ходе тестирования одной гипотезы целевой группе была предложена новая механика оплаты услуг на сайте, у контрольной группы оставалась базовая механика. В качестве задания Вам необходимо проанализировать итоги эксперимента и сделать вывод, стоит ли запускать новую механику оплаты на всех пользователей.\n",
    "\n",
    "2. Входные данные\n",
    "\n",
    "В качестве входных данных Вы имеете 4 csv-файла:\n",
    "\n",
    " - `groups.csv` - файл с информацией о принадлежности пользователя к контрольной или экспериментальной группе (А – контроль, B – целевая группа) \n",
    " - `groups_add.csv` - дополнительный файл с пользователями, который вам прислали спустя 2 дня после передачи данных\n",
    " - `active_studs.csv` - файл с информацией о пользователях, которые зашли на платформу в дни проведения эксперимента. \n",
    " - `checks.csv` - файл с информацией об оплатах пользователей в дни проведения эксперимента\n",
    " \n",
    "3. Вопросы\n",
    "\n",
    " - На какие метрики Вы смотрите в ходе анализа и почему?\n",
    " - Имеются ли различия в показателях и с чем они могут быть связаны?\n",
    " - Являются ли эти различия статистически значимыми?\n",
    " - Стоит ли запускать новую механику на всех пользователей?\n",
    " \n",
    "\n",
    "4. План\n",
    "\n",
    " - Посмотреть данные, сделать разведывательный анализ данных\n",
    " - Построить графики, посмотреть форму распределения величин\n",
    " - Определить метрики, на которые будем опираться\n",
    " - Выбрать гипотезу, выбрать подходящий тест \n",
    " - Ответы на вопросы, сделать выводы"
   ]
  },
  {
   "cell_type": "markdown",
   "metadata": {},
   "source": [
    "Импортируем библиотеки"
   ]
  },
  {
   "cell_type": "code",
   "execution_count": 9,
   "metadata": {},
   "outputs": [],
   "source": [
    "import numpy as np\n",
    "import pandas as pd\n",
    "import scipy.stats as ss\n",
    "\n",
    "import seaborn as sns\n",
    "import plotly.express as px\n",
    "import matplotlib.pyplot as plt\n",
    "%matplotlib inline\n",
    "sns.set(rc={'figure.figsize':(16,5)})\n",
    "colors = [\"#69b3a2\", \"#4374B3\"]\n",
    "sns.set_palette(sns.color_palette(colors))\n",
    "\n",
    "from tqdm.auto import tqdm\n",
    "from scipy.stats import chi2_contingency, chi2, mannwhitneyu, shapiro, kruskal\n",
    "import statsmodels.api as sa \n",
    "import pingouin as pg\n",
    "\n",
    "import pandas as pd\n",
    "from urllib.parse import urlencode\n",
    "import requests"
   ]
  },
  {
   "cell_type": "markdown",
   "metadata": {},
   "source": [
    "### Разведывательный анализ данных"
   ]
  },
  {
   "cell_type": "markdown",
   "metadata": {},
   "source": [
    "Убедимся, что данные считываются"
   ]
  },
  {
   "cell_type": "code",
   "execution_count": 15,
   "metadata": {},
   "outputs": [],
   "source": [
    "# Используем API\n",
    "base_url = 'https://cloud-api.yandex.net/v1/disk/public/resources/download?'\n",
    "url_groups_add = 'https://disk.yandex.ru/d/5Kxrz02m3IBUwQ'\n",
    "url_groups = 'https://disk.yandex.ru/d/UhyYx41rTt3clQ'\n",
    "url_checks = 'https://disk.yandex.ru/d/pH1q-VqcxXjsVA'\n",
    "url_active_studs = 'https://disk.yandex.ru/d/Tbs44Bm6H_FwFQ'\n",
    "\n",
    "# Получаем URL\n",
    "visits_url_groups = base_url + urlencode(dict(public_key = url_groups))\n",
    "visits_url_groups_add = base_url + urlencode(dict(public_key = url_groups_add))\n",
    "visits_url_checks = base_url + urlencode(dict(public_key = url_checks))\n",
    "visits_url_active_studs = base_url + urlencode(dict(public_key = url_active_studs))\n",
    "    \n",
    "response_1 = requests.get(visits_url_groups) \n",
    "download_url_1 = response_1.json()['href'] \n",
    "    \n",
    "response_2 = requests.get(visits_url_groups_add) \n",
    "download_url_2 = response_2.json()['href'] \n",
    "\n",
    "response_3 = requests.get(visits_url_checks) \n",
    "download_url_3 = response_3.json()['href'] \n",
    "    \n",
    "response_4 = requests.get(visits_url_active_studs) \n",
    "download_url_4 = response_4.json()['href'] \n",
    "         \n",
    "# Загружаем файл в df \n",
    "download_response_1 = requests.get(download_url_1)\n",
    "download_response_2 = requests.get(download_url_2)\n",
    "download_response_3 = requests.get(download_url_3)\n",
    "download_response_4 = requests.get(download_url_4)\n",
    "    \n",
    "groups = pd.read_csv(download_url_1, sep = ';')\n",
    "group_add = pd.read_csv(download_url_2)\n",
    "checks = pd.read_csv(download_url_3, sep = ';')\n",
    "active_studs = pd.read_csv(download_url_4)"
   ]
  },
  {
   "cell_type": "code",
   "execution_count": 16,
   "metadata": {},
   "outputs": [
    {
     "data": {
      "text/html": [
       "<div>\n",
       "<style scoped>\n",
       "    .dataframe tbody tr th:only-of-type {\n",
       "        vertical-align: middle;\n",
       "    }\n",
       "\n",
       "    .dataframe tbody tr th {\n",
       "        vertical-align: top;\n",
       "    }\n",
       "\n",
       "    .dataframe thead th {\n",
       "        text-align: right;\n",
       "    }\n",
       "</style>\n",
       "<table border=\"1\" class=\"dataframe\">\n",
       "  <thead>\n",
       "    <tr style=\"text-align: right;\">\n",
       "      <th></th>\n",
       "      <th>id</th>\n",
       "      <th>grp</th>\n",
       "    </tr>\n",
       "  </thead>\n",
       "  <tbody>\n",
       "    <tr>\n",
       "      <th>0</th>\n",
       "      <td>1489</td>\n",
       "      <td>B</td>\n",
       "    </tr>\n",
       "    <tr>\n",
       "      <th>1</th>\n",
       "      <td>1627</td>\n",
       "      <td>A</td>\n",
       "    </tr>\n",
       "    <tr>\n",
       "      <th>2</th>\n",
       "      <td>1768</td>\n",
       "      <td>B</td>\n",
       "    </tr>\n",
       "    <tr>\n",
       "      <th>3</th>\n",
       "      <td>1783</td>\n",
       "      <td>B</td>\n",
       "    </tr>\n",
       "    <tr>\n",
       "      <th>4</th>\n",
       "      <td>1794</td>\n",
       "      <td>A</td>\n",
       "    </tr>\n",
       "  </tbody>\n",
       "</table>\n",
       "</div>"
      ],
      "text/plain": [
       "     id grp\n",
       "0  1489   B\n",
       "1  1627   A\n",
       "2  1768   B\n",
       "3  1783   B\n",
       "4  1794   A"
      ]
     },
     "execution_count": 16,
     "metadata": {},
     "output_type": "execute_result"
    }
   ],
   "source": [
    "groups.head()"
   ]
  },
  {
   "cell_type": "code",
   "execution_count": 17,
   "metadata": {},
   "outputs": [
    {
     "data": {
      "text/html": [
       "<div>\n",
       "<style scoped>\n",
       "    .dataframe tbody tr th:only-of-type {\n",
       "        vertical-align: middle;\n",
       "    }\n",
       "\n",
       "    .dataframe tbody tr th {\n",
       "        vertical-align: top;\n",
       "    }\n",
       "\n",
       "    .dataframe thead th {\n",
       "        text-align: right;\n",
       "    }\n",
       "</style>\n",
       "<table border=\"1\" class=\"dataframe\">\n",
       "  <thead>\n",
       "    <tr style=\"text-align: right;\">\n",
       "      <th></th>\n",
       "      <th>id</th>\n",
       "      <th>grp</th>\n",
       "    </tr>\n",
       "  </thead>\n",
       "  <tbody>\n",
       "    <tr>\n",
       "      <th>0</th>\n",
       "      <td>5694584</td>\n",
       "      <td>B</td>\n",
       "    </tr>\n",
       "    <tr>\n",
       "      <th>1</th>\n",
       "      <td>5694830</td>\n",
       "      <td>B</td>\n",
       "    </tr>\n",
       "    <tr>\n",
       "      <th>2</th>\n",
       "      <td>5695057</td>\n",
       "      <td>B</td>\n",
       "    </tr>\n",
       "    <tr>\n",
       "      <th>3</th>\n",
       "      <td>5698872</td>\n",
       "      <td>B</td>\n",
       "    </tr>\n",
       "    <tr>\n",
       "      <th>4</th>\n",
       "      <td>5699067</td>\n",
       "      <td>B</td>\n",
       "    </tr>\n",
       "  </tbody>\n",
       "</table>\n",
       "</div>"
      ],
      "text/plain": [
       "        id grp\n",
       "0  5694584   B\n",
       "1  5694830   B\n",
       "2  5695057   B\n",
       "3  5698872   B\n",
       "4  5699067   B"
      ]
     },
     "execution_count": 17,
     "metadata": {},
     "output_type": "execute_result"
    }
   ],
   "source": [
    "group_add.head()"
   ]
  },
  {
   "cell_type": "code",
   "execution_count": 18,
   "metadata": {},
   "outputs": [
    {
     "data": {
      "text/html": [
       "<div>\n",
       "<style scoped>\n",
       "    .dataframe tbody tr th:only-of-type {\n",
       "        vertical-align: middle;\n",
       "    }\n",
       "\n",
       "    .dataframe tbody tr th {\n",
       "        vertical-align: top;\n",
       "    }\n",
       "\n",
       "    .dataframe thead th {\n",
       "        text-align: right;\n",
       "    }\n",
       "</style>\n",
       "<table border=\"1\" class=\"dataframe\">\n",
       "  <thead>\n",
       "    <tr style=\"text-align: right;\">\n",
       "      <th></th>\n",
       "      <th>student_id</th>\n",
       "      <th>rev</th>\n",
       "    </tr>\n",
       "  </thead>\n",
       "  <tbody>\n",
       "    <tr>\n",
       "      <th>0</th>\n",
       "      <td>1627</td>\n",
       "      <td>990.0</td>\n",
       "    </tr>\n",
       "    <tr>\n",
       "      <th>1</th>\n",
       "      <td>3185</td>\n",
       "      <td>690.0</td>\n",
       "    </tr>\n",
       "    <tr>\n",
       "      <th>2</th>\n",
       "      <td>25973</td>\n",
       "      <td>690.0</td>\n",
       "    </tr>\n",
       "    <tr>\n",
       "      <th>3</th>\n",
       "      <td>26280</td>\n",
       "      <td>690.0</td>\n",
       "    </tr>\n",
       "    <tr>\n",
       "      <th>4</th>\n",
       "      <td>100300</td>\n",
       "      <td>990.0</td>\n",
       "    </tr>\n",
       "  </tbody>\n",
       "</table>\n",
       "</div>"
      ],
      "text/plain": [
       "   student_id    rev\n",
       "0        1627  990.0\n",
       "1        3185  690.0\n",
       "2       25973  690.0\n",
       "3       26280  690.0\n",
       "4      100300  990.0"
      ]
     },
     "execution_count": 18,
     "metadata": {},
     "output_type": "execute_result"
    }
   ],
   "source": [
    "checks.head()"
   ]
  },
  {
   "cell_type": "code",
   "execution_count": 19,
   "metadata": {},
   "outputs": [
    {
     "data": {
      "text/html": [
       "<div>\n",
       "<style scoped>\n",
       "    .dataframe tbody tr th:only-of-type {\n",
       "        vertical-align: middle;\n",
       "    }\n",
       "\n",
       "    .dataframe tbody tr th {\n",
       "        vertical-align: top;\n",
       "    }\n",
       "\n",
       "    .dataframe thead th {\n",
       "        text-align: right;\n",
       "    }\n",
       "</style>\n",
       "<table border=\"1\" class=\"dataframe\">\n",
       "  <thead>\n",
       "    <tr style=\"text-align: right;\">\n",
       "      <th></th>\n",
       "      <th>student_id</th>\n",
       "    </tr>\n",
       "  </thead>\n",
       "  <tbody>\n",
       "    <tr>\n",
       "      <th>0</th>\n",
       "      <td>581585</td>\n",
       "    </tr>\n",
       "    <tr>\n",
       "      <th>1</th>\n",
       "      <td>5723133</td>\n",
       "    </tr>\n",
       "    <tr>\n",
       "      <th>2</th>\n",
       "      <td>3276743</td>\n",
       "    </tr>\n",
       "    <tr>\n",
       "      <th>3</th>\n",
       "      <td>4238589</td>\n",
       "    </tr>\n",
       "    <tr>\n",
       "      <th>4</th>\n",
       "      <td>4475369</td>\n",
       "    </tr>\n",
       "  </tbody>\n",
       "</table>\n",
       "</div>"
      ],
      "text/plain": [
       "   student_id\n",
       "0      581585\n",
       "1     5723133\n",
       "2     3276743\n",
       "3     4238589\n",
       "4     4475369"
      ]
     },
     "execution_count": 19,
     "metadata": {},
     "output_type": "execute_result"
    }
   ],
   "source": [
    "active_studs.head()"
   ]
  },
  {
   "cell_type": "markdown",
   "metadata": {},
   "source": [
    "Данные считываются. Далее изучим данные: определим размеры датасетов, наличие пропусков, дублей, посмотрим типы данных, количество уникальных значений."
   ]
  },
  {
   "cell_type": "code",
   "execution_count": 21,
   "metadata": {},
   "outputs": [
    {
     "data": {
      "text/plain": [
       "id     0\n",
       "grp    0\n",
       "dtype: int64"
      ]
     },
     "execution_count": 21,
     "metadata": {},
     "output_type": "execute_result"
    }
   ],
   "source": [
    "groups.isna().sum()"
   ]
  },
  {
   "cell_type": "code",
   "execution_count": 22,
   "metadata": {},
   "outputs": [
    {
     "data": {
      "text/plain": [
       "0"
      ]
     },
     "execution_count": 22,
     "metadata": {},
     "output_type": "execute_result"
    }
   ],
   "source": [
    "groups.duplicated().sum()"
   ]
  },
  {
   "cell_type": "code",
   "execution_count": 23,
   "metadata": {},
   "outputs": [
    {
     "name": "stdout",
     "output_type": "stream",
     "text": [
      "<class 'pandas.core.frame.DataFrame'>\n",
      "RangeIndex: 74484 entries, 0 to 74483\n",
      "Data columns (total 2 columns):\n",
      " #   Column  Non-Null Count  Dtype \n",
      "---  ------  --------------  ----- \n",
      " 0   id      74484 non-null  int64 \n",
      " 1   grp     74484 non-null  object\n",
      "dtypes: int64(1), object(1)\n",
      "memory usage: 1.1+ MB\n"
     ]
    }
   ],
   "source": [
    "groups.info()"
   ]
  },
  {
   "cell_type": "code",
   "execution_count": 24,
   "metadata": {},
   "outputs": [
    {
     "data": {
      "text/plain": [
       "74484"
      ]
     },
     "execution_count": 24,
     "metadata": {},
     "output_type": "execute_result"
    }
   ],
   "source": [
    "groups.id.nunique()"
   ]
  },
  {
   "cell_type": "code",
   "execution_count": 25,
   "metadata": {},
   "outputs": [
    {
     "name": "stdout",
     "output_type": "stream",
     "text": [
      "<class 'pandas.core.frame.DataFrame'>\n",
      "RangeIndex: 92 entries, 0 to 91\n",
      "Data columns (total 2 columns):\n",
      " #   Column  Non-Null Count  Dtype \n",
      "---  ------  --------------  ----- \n",
      " 0   id      92 non-null     int64 \n",
      " 1   grp     92 non-null     object\n",
      "dtypes: int64(1), object(1)\n",
      "memory usage: 1.6+ KB\n"
     ]
    }
   ],
   "source": [
    "group_add.info()"
   ]
  },
  {
   "cell_type": "code",
   "execution_count": 26,
   "metadata": {},
   "outputs": [
    {
     "data": {
      "text/plain": [
       "id     0\n",
       "grp    0\n",
       "dtype: int64"
      ]
     },
     "execution_count": 26,
     "metadata": {},
     "output_type": "execute_result"
    }
   ],
   "source": [
    "group_add.isna().sum()"
   ]
  },
  {
   "cell_type": "code",
   "execution_count": 27,
   "metadata": {},
   "outputs": [
    {
     "data": {
      "text/plain": [
       "0"
      ]
     },
     "execution_count": 27,
     "metadata": {},
     "output_type": "execute_result"
    }
   ],
   "source": [
    "group_add.duplicated().sum()"
   ]
  },
  {
   "cell_type": "code",
   "execution_count": 28,
   "metadata": {},
   "outputs": [
    {
     "name": "stdout",
     "output_type": "stream",
     "text": [
      "<class 'pandas.core.frame.DataFrame'>\n",
      "RangeIndex: 541 entries, 0 to 540\n",
      "Data columns (total 2 columns):\n",
      " #   Column      Non-Null Count  Dtype  \n",
      "---  ------      --------------  -----  \n",
      " 0   student_id  541 non-null    int64  \n",
      " 1   rev         541 non-null    float64\n",
      "dtypes: float64(1), int64(1)\n",
      "memory usage: 8.6 KB\n"
     ]
    }
   ],
   "source": [
    "checks.info()"
   ]
  },
  {
   "cell_type": "code",
   "execution_count": 29,
   "metadata": {},
   "outputs": [
    {
     "data": {
      "text/plain": [
       "541"
      ]
     },
     "execution_count": 29,
     "metadata": {},
     "output_type": "execute_result"
    }
   ],
   "source": [
    "checks.student_id.nunique()"
   ]
  },
  {
   "cell_type": "code",
   "execution_count": 30,
   "metadata": {},
   "outputs": [
    {
     "data": {
      "text/plain": [
       "student_id    0\n",
       "rev           0\n",
       "dtype: int64"
      ]
     },
     "execution_count": 30,
     "metadata": {},
     "output_type": "execute_result"
    }
   ],
   "source": [
    "checks.isna().sum()"
   ]
  },
  {
   "cell_type": "code",
   "execution_count": 31,
   "metadata": {},
   "outputs": [
    {
     "data": {
      "text/plain": [
       "0"
      ]
     },
     "execution_count": 31,
     "metadata": {},
     "output_type": "execute_result"
    }
   ],
   "source": [
    "checks.duplicated().sum()"
   ]
  },
  {
   "cell_type": "code",
   "execution_count": 32,
   "metadata": {},
   "outputs": [
    {
     "name": "stdout",
     "output_type": "stream",
     "text": [
      "<class 'pandas.core.frame.DataFrame'>\n",
      "RangeIndex: 8341 entries, 0 to 8340\n",
      "Data columns (total 1 columns):\n",
      " #   Column      Non-Null Count  Dtype\n",
      "---  ------      --------------  -----\n",
      " 0   student_id  8341 non-null   int64\n",
      "dtypes: int64(1)\n",
      "memory usage: 65.3 KB\n"
     ]
    }
   ],
   "source": [
    "active_studs.info()"
   ]
  },
  {
   "cell_type": "code",
   "execution_count": 33,
   "metadata": {},
   "outputs": [
    {
     "data": {
      "text/plain": [
       "student_id    0\n",
       "dtype: int64"
      ]
     },
     "execution_count": 33,
     "metadata": {},
     "output_type": "execute_result"
    }
   ],
   "source": [
    "active_studs.isna().sum()"
   ]
  },
  {
   "cell_type": "code",
   "execution_count": 34,
   "metadata": {},
   "outputs": [
    {
     "data": {
      "text/plain": [
       "0"
      ]
     },
     "execution_count": 34,
     "metadata": {},
     "output_type": "execute_result"
    }
   ],
   "source": [
    "active_studs.duplicated().sum()"
   ]
  },
  {
   "cell_type": "markdown",
   "metadata": {},
   "source": [
    "Пропусков нет, дублей нет, данные в нужном формате, приступим к объединению таблиц. Переименуем в двух таблицах столбец `student_id` в`id`. Убедимся, что объединение прошло корректно (посмотрим на размеры результирующих датасетов)."
   ]
  },
  {
   "cell_type": "code",
   "execution_count": 35,
   "metadata": {
    "scrolled": true
   },
   "outputs": [
    {
     "data": {
      "text/html": [
       "<div>\n",
       "<style scoped>\n",
       "    .dataframe tbody tr th:only-of-type {\n",
       "        vertical-align: middle;\n",
       "    }\n",
       "\n",
       "    .dataframe tbody tr th {\n",
       "        vertical-align: top;\n",
       "    }\n",
       "\n",
       "    .dataframe thead th {\n",
       "        text-align: right;\n",
       "    }\n",
       "</style>\n",
       "<table border=\"1\" class=\"dataframe\">\n",
       "  <thead>\n",
       "    <tr style=\"text-align: right;\">\n",
       "      <th></th>\n",
       "      <th>id</th>\n",
       "      <th>grp</th>\n",
       "    </tr>\n",
       "  </thead>\n",
       "  <tbody>\n",
       "    <tr>\n",
       "      <th>0</th>\n",
       "      <td>1489</td>\n",
       "      <td>B</td>\n",
       "    </tr>\n",
       "    <tr>\n",
       "      <th>1</th>\n",
       "      <td>1627</td>\n",
       "      <td>A</td>\n",
       "    </tr>\n",
       "    <tr>\n",
       "      <th>2</th>\n",
       "      <td>1768</td>\n",
       "      <td>B</td>\n",
       "    </tr>\n",
       "    <tr>\n",
       "      <th>3</th>\n",
       "      <td>1783</td>\n",
       "      <td>B</td>\n",
       "    </tr>\n",
       "    <tr>\n",
       "      <th>4</th>\n",
       "      <td>1794</td>\n",
       "      <td>A</td>\n",
       "    </tr>\n",
       "  </tbody>\n",
       "</table>\n",
       "</div>"
      ],
      "text/plain": [
       "     id grp\n",
       "0  1489   B\n",
       "1  1627   A\n",
       "2  1768   B\n",
       "3  1783   B\n",
       "4  1794   A"
      ]
     },
     "execution_count": 35,
     "metadata": {},
     "output_type": "execute_result"
    }
   ],
   "source": [
    "all_students = groups.merge(group_add, how = 'outer', on = ['id','grp'])\n",
    "all_students.head()"
   ]
  },
  {
   "cell_type": "code",
   "execution_count": 36,
   "metadata": {},
   "outputs": [
    {
     "name": "stdout",
     "output_type": "stream",
     "text": [
      "<class 'pandas.core.frame.DataFrame'>\n",
      "Int64Index: 74576 entries, 0 to 74575\n",
      "Data columns (total 2 columns):\n",
      " #   Column  Non-Null Count  Dtype \n",
      "---  ------  --------------  ----- \n",
      " 0   id      74576 non-null  int64 \n",
      " 1   grp     74576 non-null  object\n",
      "dtypes: int64(1), object(1)\n",
      "memory usage: 1.7+ MB\n"
     ]
    }
   ],
   "source": [
    "all_students.info()"
   ]
  },
  {
   "cell_type": "code",
   "execution_count": 37,
   "metadata": {},
   "outputs": [
    {
     "data": {
      "text/plain": [
       "id     0\n",
       "grp    0\n",
       "dtype: int64"
      ]
     },
     "execution_count": 37,
     "metadata": {},
     "output_type": "execute_result"
    }
   ],
   "source": [
    "all_students.isna().sum()"
   ]
  },
  {
   "cell_type": "code",
   "execution_count": 38,
   "metadata": {},
   "outputs": [
    {
     "data": {
      "text/plain": [
       "0"
      ]
     },
     "execution_count": 38,
     "metadata": {},
     "output_type": "execute_result"
    }
   ],
   "source": [
    "all_students.duplicated().sum()"
   ]
  },
  {
   "cell_type": "code",
   "execution_count": 39,
   "metadata": {},
   "outputs": [
    {
     "data": {
      "text/html": [
       "<div>\n",
       "<style scoped>\n",
       "    .dataframe tbody tr th:only-of-type {\n",
       "        vertical-align: middle;\n",
       "    }\n",
       "\n",
       "    .dataframe tbody tr th {\n",
       "        vertical-align: top;\n",
       "    }\n",
       "\n",
       "    .dataframe thead th {\n",
       "        text-align: right;\n",
       "    }\n",
       "</style>\n",
       "<table border=\"1\" class=\"dataframe\">\n",
       "  <thead>\n",
       "    <tr style=\"text-align: right;\">\n",
       "      <th></th>\n",
       "      <th>id</th>\n",
       "      <th>be_on_platform</th>\n",
       "    </tr>\n",
       "  </thead>\n",
       "  <tbody>\n",
       "    <tr>\n",
       "      <th>0</th>\n",
       "      <td>581585</td>\n",
       "      <td>1</td>\n",
       "    </tr>\n",
       "    <tr>\n",
       "      <th>1</th>\n",
       "      <td>5723133</td>\n",
       "      <td>1</td>\n",
       "    </tr>\n",
       "    <tr>\n",
       "      <th>2</th>\n",
       "      <td>3276743</td>\n",
       "      <td>1</td>\n",
       "    </tr>\n",
       "    <tr>\n",
       "      <th>3</th>\n",
       "      <td>4238589</td>\n",
       "      <td>1</td>\n",
       "    </tr>\n",
       "    <tr>\n",
       "      <th>4</th>\n",
       "      <td>4475369</td>\n",
       "      <td>1</td>\n",
       "    </tr>\n",
       "  </tbody>\n",
       "</table>\n",
       "</div>"
      ],
      "text/plain": [
       "        id  be_on_platform\n",
       "0   581585               1\n",
       "1  5723133               1\n",
       "2  3276743               1\n",
       "3  4238589               1\n",
       "4  4475369               1"
      ]
     },
     "execution_count": 39,
     "metadata": {},
     "output_type": "execute_result"
    }
   ],
   "source": [
    "active_studs = active_studs.rename(columns={'student_id':'id'})\n",
    "active_studs.insert(loc=1, column='be_on_platform', value = 1) # Добавляем колонку \"be_on_platform\" с значением 1 - пользьователи, которые были на платформе во время АБ теста\n",
    "active_studs.head()"
   ]
  },
  {
   "cell_type": "code",
   "execution_count": 40,
   "metadata": {},
   "outputs": [
    {
     "data": {
      "text/html": [
       "<div>\n",
       "<style scoped>\n",
       "    .dataframe tbody tr th:only-of-type {\n",
       "        vertical-align: middle;\n",
       "    }\n",
       "\n",
       "    .dataframe tbody tr th {\n",
       "        vertical-align: top;\n",
       "    }\n",
       "\n",
       "    .dataframe thead th {\n",
       "        text-align: right;\n",
       "    }\n",
       "</style>\n",
       "<table border=\"1\" class=\"dataframe\">\n",
       "  <thead>\n",
       "    <tr style=\"text-align: right;\">\n",
       "      <th></th>\n",
       "      <th>id</th>\n",
       "      <th>rev</th>\n",
       "    </tr>\n",
       "  </thead>\n",
       "  <tbody>\n",
       "    <tr>\n",
       "      <th>0</th>\n",
       "      <td>1627</td>\n",
       "      <td>990.0</td>\n",
       "    </tr>\n",
       "    <tr>\n",
       "      <th>1</th>\n",
       "      <td>3185</td>\n",
       "      <td>690.0</td>\n",
       "    </tr>\n",
       "    <tr>\n",
       "      <th>2</th>\n",
       "      <td>25973</td>\n",
       "      <td>690.0</td>\n",
       "    </tr>\n",
       "    <tr>\n",
       "      <th>3</th>\n",
       "      <td>26280</td>\n",
       "      <td>690.0</td>\n",
       "    </tr>\n",
       "    <tr>\n",
       "      <th>4</th>\n",
       "      <td>100300</td>\n",
       "      <td>990.0</td>\n",
       "    </tr>\n",
       "  </tbody>\n",
       "</table>\n",
       "</div>"
      ],
      "text/plain": [
       "       id    rev\n",
       "0    1627  990.0\n",
       "1    3185  690.0\n",
       "2   25973  690.0\n",
       "3   26280  690.0\n",
       "4  100300  990.0"
      ]
     },
     "execution_count": 40,
     "metadata": {},
     "output_type": "execute_result"
    }
   ],
   "source": [
    "checks = checks.rename(columns={'student_id':'id'})\n",
    "checks.head()"
   ]
  },
  {
   "cell_type": "code",
   "execution_count": 41,
   "metadata": {},
   "outputs": [
    {
     "data": {
      "text/html": [
       "<div>\n",
       "<style scoped>\n",
       "    .dataframe tbody tr th:only-of-type {\n",
       "        vertical-align: middle;\n",
       "    }\n",
       "\n",
       "    .dataframe tbody tr th {\n",
       "        vertical-align: top;\n",
       "    }\n",
       "\n",
       "    .dataframe thead th {\n",
       "        text-align: right;\n",
       "    }\n",
       "</style>\n",
       "<table border=\"1\" class=\"dataframe\">\n",
       "  <thead>\n",
       "    <tr style=\"text-align: right;\">\n",
       "      <th></th>\n",
       "      <th>id</th>\n",
       "      <th>grp</th>\n",
       "      <th>be_on_platform</th>\n",
       "      <th>rev</th>\n",
       "    </tr>\n",
       "  </thead>\n",
       "  <tbody>\n",
       "    <tr>\n",
       "      <th>0</th>\n",
       "      <td>1489</td>\n",
       "      <td>B</td>\n",
       "      <td>0.0</td>\n",
       "      <td>0.0</td>\n",
       "    </tr>\n",
       "    <tr>\n",
       "      <th>1</th>\n",
       "      <td>1627</td>\n",
       "      <td>A</td>\n",
       "      <td>1.0</td>\n",
       "      <td>990.0</td>\n",
       "    </tr>\n",
       "    <tr>\n",
       "      <th>2</th>\n",
       "      <td>1768</td>\n",
       "      <td>B</td>\n",
       "      <td>0.0</td>\n",
       "      <td>0.0</td>\n",
       "    </tr>\n",
       "    <tr>\n",
       "      <th>3</th>\n",
       "      <td>1783</td>\n",
       "      <td>B</td>\n",
       "      <td>0.0</td>\n",
       "      <td>0.0</td>\n",
       "    </tr>\n",
       "    <tr>\n",
       "      <th>4</th>\n",
       "      <td>1794</td>\n",
       "      <td>A</td>\n",
       "      <td>0.0</td>\n",
       "      <td>0.0</td>\n",
       "    </tr>\n",
       "  </tbody>\n",
       "</table>\n",
       "</div>"
      ],
      "text/plain": [
       "     id grp  be_on_platform    rev\n",
       "0  1489   B             0.0    0.0\n",
       "1  1627   A             1.0  990.0\n",
       "2  1768   B             0.0    0.0\n",
       "3  1783   B             0.0    0.0\n",
       "4  1794   A             0.0    0.0"
      ]
     },
     "execution_count": 41,
     "metadata": {},
     "output_type": "execute_result"
    }
   ],
   "source": [
    "all_students_ab = all_students.merge(active_studs, how = 'outer', on = ['id'])\n",
    "\n",
    "# Заполним все пустые ячейки значением 0 (пользователи, которые не были на платформе в дни А/В теста)\n",
    "all_students_ab['be_on_platform'] = all_students_ab['be_on_platform'].fillna(0) \n",
    "\n",
    "all_students_ab = all_students_ab.merge(checks, how = 'outer', on = ['id'])\n",
    "all_students_ab.rev = all_students_ab.rev.fillna(0)\n",
    "all_students_ab.head()"
   ]
  },
  {
   "cell_type": "code",
   "execution_count": 42,
   "metadata": {},
   "outputs": [
    {
     "data": {
      "text/plain": [
       "id                0\n",
       "grp               0\n",
       "be_on_platform    0\n",
       "rev               0\n",
       "dtype: int64"
      ]
     },
     "execution_count": 42,
     "metadata": {},
     "output_type": "execute_result"
    }
   ],
   "source": [
    "all_students_ab.isna().sum()"
   ]
  },
  {
   "cell_type": "code",
   "execution_count": 43,
   "metadata": {},
   "outputs": [
    {
     "data": {
      "text/plain": [
       "0"
      ]
     },
     "execution_count": 43,
     "metadata": {},
     "output_type": "execute_result"
    }
   ],
   "source": [
    "all_students_ab.duplicated().sum()"
   ]
  },
  {
   "cell_type": "markdown",
   "metadata": {},
   "source": [
    "Объединение прошло корректно (количество пользователей соответствует сумме пользователей из исходной и дополнительной таблиц), пропусков и дублей нет."
   ]
  },
  {
   "cell_type": "markdown",
   "metadata": {},
   "source": [
    "Изучим результирующую таблицу `all_students_ab`, в которой собрана вся информация обо всех пользователях, об их покупках и участии в А/В тесте."
   ]
  },
  {
   "cell_type": "code",
   "execution_count": 44,
   "metadata": {},
   "outputs": [
    {
     "data": {
      "text/plain": [
       "149"
      ]
     },
     "execution_count": 44,
     "metadata": {},
     "output_type": "execute_result"
    }
   ],
   "source": [
    "all_students_ab.query('be_on_platform == 0 and rev!= 0').shape[0] "
   ]
  },
  {
   "cell_type": "markdown",
   "metadata": {},
   "source": [
    "Видим, что есть часть пользователей (149), которые не были на платформе в дни проведения А/В теста, однако совершали покупки в дни эксперимента. Возможно, это ошибка в данных, а возможно - автоплатеж. В любом случае, мы их отфильтруем и не будем учитывать в дальнейшем исследовании."
   ]
  },
  {
   "cell_type": "code",
   "execution_count": 45,
   "metadata": {},
   "outputs": [
    {
     "data": {
      "text/plain": [
       "id                8341\n",
       "grp                  2\n",
       "be_on_platform       1\n",
       "rev                 39\n",
       "dtype: int64"
      ]
     },
     "execution_count": 45,
     "metadata": {},
     "output_type": "execute_result"
    }
   ],
   "source": [
    "be_on_platform = all_students_ab.query('be_on_platform == 1') # Пользователи, которые были на платформе в дни эксперимента.\n",
    "be_on_platform.nunique()"
   ]
  },
  {
   "cell_type": "code",
   "execution_count": 46,
   "metadata": {},
   "outputs": [
    {
     "data": {
      "text/html": [
       "<div>\n",
       "<style scoped>\n",
       "    .dataframe tbody tr th:only-of-type {\n",
       "        vertical-align: middle;\n",
       "    }\n",
       "\n",
       "    .dataframe tbody tr th {\n",
       "        vertical-align: top;\n",
       "    }\n",
       "\n",
       "    .dataframe thead th {\n",
       "        text-align: right;\n",
       "    }\n",
       "</style>\n",
       "<table border=\"1\" class=\"dataframe\">\n",
       "  <thead>\n",
       "    <tr style=\"text-align: right;\">\n",
       "      <th></th>\n",
       "      <th>id</th>\n",
       "      <th>grp</th>\n",
       "      <th>be_on_platform</th>\n",
       "      <th>rev</th>\n",
       "    </tr>\n",
       "  </thead>\n",
       "  <tbody>\n",
       "    <tr>\n",
       "      <th>1</th>\n",
       "      <td>1627</td>\n",
       "      <td>A</td>\n",
       "      <td>1.0</td>\n",
       "      <td>990.0</td>\n",
       "    </tr>\n",
       "    <tr>\n",
       "      <th>10</th>\n",
       "      <td>2085</td>\n",
       "      <td>B</td>\n",
       "      <td>1.0</td>\n",
       "      <td>0.0</td>\n",
       "    </tr>\n",
       "    <tr>\n",
       "      <th>12</th>\n",
       "      <td>2215</td>\n",
       "      <td>B</td>\n",
       "      <td>1.0</td>\n",
       "      <td>0.0</td>\n",
       "    </tr>\n",
       "    <tr>\n",
       "      <th>43</th>\n",
       "      <td>3391</td>\n",
       "      <td>A</td>\n",
       "      <td>1.0</td>\n",
       "      <td>0.0</td>\n",
       "    </tr>\n",
       "    <tr>\n",
       "      <th>45</th>\n",
       "      <td>3401</td>\n",
       "      <td>B</td>\n",
       "      <td>1.0</td>\n",
       "      <td>0.0</td>\n",
       "    </tr>\n",
       "  </tbody>\n",
       "</table>\n",
       "</div>"
      ],
      "text/plain": [
       "      id grp  be_on_platform    rev\n",
       "1   1627   A             1.0  990.0\n",
       "10  2085   B             1.0    0.0\n",
       "12  2215   B             1.0    0.0\n",
       "43  3391   A             1.0    0.0\n",
       "45  3401   B             1.0    0.0"
      ]
     },
     "execution_count": 46,
     "metadata": {},
     "output_type": "execute_result"
    }
   ],
   "source": [
    "be_on_platform.head()"
   ]
  },
  {
   "cell_type": "markdown",
   "metadata": {},
   "source": [
    "### Расчет стат. величин, изучение распределения величин, построение графиков"
   ]
  },
  {
   "cell_type": "markdown",
   "metadata": {},
   "source": [
    "Изучим основные статистические величины для значений из колонки `rev` таблицы `be_on_platform`. Можно увидеть из таблицы и из графика `boxplot`, что большая чать аудитории в обеих группах не покупали (значение `rev` равно 0)."
   ]
  },
  {
   "cell_type": "code",
   "execution_count": 47,
   "metadata": {},
   "outputs": [
    {
     "data": {
      "text/html": [
       "<div>\n",
       "<style scoped>\n",
       "    .dataframe tbody tr th:only-of-type {\n",
       "        vertical-align: middle;\n",
       "    }\n",
       "\n",
       "    .dataframe tbody tr th {\n",
       "        vertical-align: top;\n",
       "    }\n",
       "\n",
       "    .dataframe thead th {\n",
       "        text-align: right;\n",
       "    }\n",
       "</style>\n",
       "<table border=\"1\" class=\"dataframe\">\n",
       "  <thead>\n",
       "    <tr style=\"text-align: right;\">\n",
       "      <th></th>\n",
       "      <th>grp</th>\n",
       "      <th>count</th>\n",
       "      <th>mean</th>\n",
       "      <th>std</th>\n",
       "      <th>min</th>\n",
       "      <th>25%</th>\n",
       "      <th>50%</th>\n",
       "      <th>75%</th>\n",
       "      <th>max</th>\n",
       "    </tr>\n",
       "  </thead>\n",
       "  <tbody>\n",
       "    <tr>\n",
       "      <th>0</th>\n",
       "      <td>A</td>\n",
       "      <td>1538.0</td>\n",
       "      <td>47.347204</td>\n",
       "      <td>290.490632</td>\n",
       "      <td>0.0</td>\n",
       "      <td>0.0</td>\n",
       "      <td>0.0</td>\n",
       "      <td>0.0</td>\n",
       "      <td>3660.0</td>\n",
       "    </tr>\n",
       "    <tr>\n",
       "      <th>1</th>\n",
       "      <td>B</td>\n",
       "      <td>6803.0</td>\n",
       "      <td>58.058798</td>\n",
       "      <td>313.770201</td>\n",
       "      <td>0.0</td>\n",
       "      <td>0.0</td>\n",
       "      <td>0.0</td>\n",
       "      <td>0.0</td>\n",
       "      <td>4650.0</td>\n",
       "    </tr>\n",
       "  </tbody>\n",
       "</table>\n",
       "</div>"
      ],
      "text/plain": [
       "  grp   count       mean         std  min  25%  50%  75%     max\n",
       "0   A  1538.0  47.347204  290.490632  0.0  0.0  0.0  0.0  3660.0\n",
       "1   B  6803.0  58.058798  313.770201  0.0  0.0  0.0  0.0  4650.0"
      ]
     },
     "execution_count": 47,
     "metadata": {},
     "output_type": "execute_result"
    }
   ],
   "source": [
    "stat_describe_be_on_platform = be_on_platform.groupby('grp').rev.describe().reset_index()\n",
    "stat_describe_be_on_platform"
   ]
  },
  {
   "cell_type": "code",
   "execution_count": 48,
   "metadata": {},
   "outputs": [
    {
     "data": {
      "image/png": "[encoded data removed]",
      "text/plain": [
       "<Figure size 1152x360 with 1 Axes>"
      ]
     },
     "metadata": {},
     "output_type": "display_data"
    }
   ],
   "source": [
    "ax = sns.boxplot(x='grp', y = 'rev', data=be_on_platform)"
   ]
  },
  {
   "cell_type": "markdown",
   "metadata": {},
   "source": [
    "Попробуем отфильтровать тех пользователей, которые платили в обеих группах (то есть клиентов), и посмотрим, как распределены значения и также получим основные стат. величины."
   ]
  },
  {
   "cell_type": "code",
   "execution_count": 49,
   "metadata": {},
   "outputs": [
    {
     "data": {
      "text/html": [
       "<div>\n",
       "<style scoped>\n",
       "    .dataframe tbody tr th:only-of-type {\n",
       "        vertical-align: middle;\n",
       "    }\n",
       "\n",
       "    .dataframe tbody tr th {\n",
       "        vertical-align: top;\n",
       "    }\n",
       "\n",
       "    .dataframe thead th {\n",
       "        text-align: right;\n",
       "    }\n",
       "</style>\n",
       "<table border=\"1\" class=\"dataframe\">\n",
       "  <thead>\n",
       "    <tr style=\"text-align: right;\">\n",
       "      <th></th>\n",
       "      <th>id</th>\n",
       "      <th>grp</th>\n",
       "      <th>be_on_platform</th>\n",
       "      <th>rev</th>\n",
       "    </tr>\n",
       "  </thead>\n",
       "  <tbody>\n",
       "    <tr>\n",
       "      <th>1</th>\n",
       "      <td>1627</td>\n",
       "      <td>A</td>\n",
       "      <td>1.0</td>\n",
       "      <td>990.0000</td>\n",
       "    </tr>\n",
       "    <tr>\n",
       "      <th>220</th>\n",
       "      <td>100300</td>\n",
       "      <td>B</td>\n",
       "      <td>1.0</td>\n",
       "      <td>990.0000</td>\n",
       "    </tr>\n",
       "    <tr>\n",
       "      <th>320</th>\n",
       "      <td>108270</td>\n",
       "      <td>B</td>\n",
       "      <td>1.0</td>\n",
       "      <td>290.0000</td>\n",
       "    </tr>\n",
       "    <tr>\n",
       "      <th>3779</th>\n",
       "      <td>264473</td>\n",
       "      <td>B</td>\n",
       "      <td>1.0</td>\n",
       "      <td>1900.0001</td>\n",
       "    </tr>\n",
       "    <tr>\n",
       "      <th>4187</th>\n",
       "      <td>274352</td>\n",
       "      <td>B</td>\n",
       "      <td>1.0</td>\n",
       "      <td>690.0000</td>\n",
       "    </tr>\n",
       "  </tbody>\n",
       "</table>\n",
       "</div>"
      ],
      "text/plain": [
       "          id grp  be_on_platform        rev\n",
       "1       1627   A             1.0   990.0000\n",
       "220   100300   B             1.0   990.0000\n",
       "320   108270   B             1.0   290.0000\n",
       "3779  264473   B             1.0  1900.0001\n",
       "4187  274352   B             1.0   690.0000"
      ]
     },
     "execution_count": 49,
     "metadata": {},
     "output_type": "execute_result"
    }
   ],
   "source": [
    "students_rev = be_on_platform.query('rev != 0')\n",
    "students_rev.head()"
   ]
  },
  {
   "cell_type": "code",
   "execution_count": 50,
   "metadata": {},
   "outputs": [
    {
     "data": {
      "text/html": [
       "<div>\n",
       "<style scoped>\n",
       "    .dataframe tbody tr th:only-of-type {\n",
       "        vertical-align: middle;\n",
       "    }\n",
       "\n",
       "    .dataframe tbody tr th {\n",
       "        vertical-align: top;\n",
       "    }\n",
       "\n",
       "    .dataframe thead th {\n",
       "        text-align: right;\n",
       "    }\n",
       "</style>\n",
       "<table border=\"1\" class=\"dataframe\">\n",
       "  <thead>\n",
       "    <tr style=\"text-align: right;\">\n",
       "      <th></th>\n",
       "      <th>grp</th>\n",
       "      <th>count</th>\n",
       "      <th>mean</th>\n",
       "      <th>std</th>\n",
       "      <th>min</th>\n",
       "      <th>25%</th>\n",
       "      <th>50%</th>\n",
       "      <th>75%</th>\n",
       "      <th>max</th>\n",
       "    </tr>\n",
       "  </thead>\n",
       "  <tbody>\n",
       "    <tr>\n",
       "      <th>0</th>\n",
       "      <td>A</td>\n",
       "      <td>78.0</td>\n",
       "      <td>933.589744</td>\n",
       "      <td>919.932711</td>\n",
       "      <td>199.0</td>\n",
       "      <td>290.00</td>\n",
       "      <td>585.0</td>\n",
       "      <td>1114.75</td>\n",
       "      <td>3660.0</td>\n",
       "    </tr>\n",
       "    <tr>\n",
       "      <th>1</th>\n",
       "      <td>B</td>\n",
       "      <td>314.0</td>\n",
       "      <td>1257.878992</td>\n",
       "      <td>790.864254</td>\n",
       "      <td>199.0</td>\n",
       "      <td>511.75</td>\n",
       "      <td>1140.0</td>\n",
       "      <td>1900.00</td>\n",
       "      <td>4650.0</td>\n",
       "    </tr>\n",
       "  </tbody>\n",
       "</table>\n",
       "</div>"
      ],
      "text/plain": [
       "  grp  count         mean         std    min     25%     50%      75%     max\n",
       "0   A   78.0   933.589744  919.932711  199.0  290.00   585.0  1114.75  3660.0\n",
       "1   B  314.0  1257.878992  790.864254  199.0  511.75  1140.0  1900.00  4650.0"
      ]
     },
     "execution_count": 50,
     "metadata": {},
     "output_type": "execute_result"
    }
   ],
   "source": [
    "stat_describe_stud_rev = students_rev.groupby('grp').rev.describe().reset_index()\n",
    "stat_describe_stud_rev"
   ]
  },
  {
   "cell_type": "code",
   "execution_count": 51,
   "metadata": {},
   "outputs": [
    {
     "data": {
      "image/png": "[encoded data removed]",
      "text/plain": [
       "<Figure size 1152x360 with 2 Axes>"
      ]
     },
     "metadata": {},
     "output_type": "display_data"
    }
   ],
   "source": [
    "students_rev_a = students_rev.query('grp == \"A\"')\n",
    "students_rev_b = students_rev.query('grp == \"B\"')\n",
    "fig, axs = plt.subplots(1, 2)\n",
    "axs[0].hist(students_rev_a['rev'],linewidth=1,edgecolor=\"white\")\n",
    "axs[0].set_title('A group')\n",
    "axs[1].hist(students_rev_b['rev'],linewidth=1,edgecolor=\"white\")\n",
    "axs[1].set_title('B group')\n",
    "sns.despine()\n",
    "plt.show()"
   ]
  },
  {
   "cell_type": "markdown",
   "metadata": {},
   "source": [
    "Для клиентов (кто платил) наблюдаем уже другую ситуацию, видим что значения колонки `rev` различаются в широком диапазоне, причем в группе В - диапазон шире, возможно добавили какие-то новые продукты (курсы)."
   ]
  },
  {
   "cell_type": "markdown",
   "metadata": {},
   "source": [
    "Так как метрика `rev` - количественная, мы попробуем проверить, нормально ли распределены значения данной колонки, как в датасете со всеми пользователями, так и с клиентами, кто платил, с использованием теста Шапиро-Уилка (но по графикам, мы уже предполагаем, что распределение ненормальное)."
   ]
  },
  {
   "cell_type": "code",
   "execution_count": 52,
   "metadata": {},
   "outputs": [
    {
     "data": {
      "text/html": [
       "<div>\n",
       "<style scoped>\n",
       "    .dataframe tbody tr th:only-of-type {\n",
       "        vertical-align: middle;\n",
       "    }\n",
       "\n",
       "    .dataframe tbody tr th {\n",
       "        vertical-align: top;\n",
       "    }\n",
       "\n",
       "    .dataframe thead th {\n",
       "        text-align: right;\n",
       "    }\n",
       "</style>\n",
       "<table border=\"1\" class=\"dataframe\">\n",
       "  <thead>\n",
       "    <tr style=\"text-align: right;\">\n",
       "      <th></th>\n",
       "      <th>W</th>\n",
       "      <th>pval</th>\n",
       "      <th>normal</th>\n",
       "    </tr>\n",
       "  </thead>\n",
       "  <tbody>\n",
       "    <tr>\n",
       "      <th>A</th>\n",
       "      <td>30.378420</td>\n",
       "      <td>2.531687e-07</td>\n",
       "      <td>False</td>\n",
       "    </tr>\n",
       "    <tr>\n",
       "      <th>B</th>\n",
       "      <td>6.795663</td>\n",
       "      <td>3.344572e-02</td>\n",
       "      <td>False</td>\n",
       "    </tr>\n",
       "  </tbody>\n",
       "</table>\n",
       "</div>"
      ],
      "text/plain": [
       "           W          pval  normal\n",
       "A  30.378420  2.531687e-07   False\n",
       "B   6.795663  3.344572e-02   False"
      ]
     },
     "execution_count": 52,
     "metadata": {},
     "output_type": "execute_result"
    }
   ],
   "source": [
    "pg.normality(data=students_rev, dv=\"rev\", group=\"grp\", method=\"normaltest\")"
   ]
  },
  {
   "cell_type": "code",
   "execution_count": 53,
   "metadata": {},
   "outputs": [
    {
     "data": {
      "text/html": [
       "<div>\n",
       "<style scoped>\n",
       "    .dataframe tbody tr th:only-of-type {\n",
       "        vertical-align: middle;\n",
       "    }\n",
       "\n",
       "    .dataframe tbody tr th {\n",
       "        vertical-align: top;\n",
       "    }\n",
       "\n",
       "    .dataframe thead th {\n",
       "        text-align: right;\n",
       "    }\n",
       "</style>\n",
       "<table border=\"1\" class=\"dataframe\">\n",
       "  <thead>\n",
       "    <tr style=\"text-align: right;\">\n",
       "      <th></th>\n",
       "      <th>W</th>\n",
       "      <th>pval</th>\n",
       "      <th>normal</th>\n",
       "    </tr>\n",
       "  </thead>\n",
       "  <tbody>\n",
       "    <tr>\n",
       "      <th>A</th>\n",
       "      <td>2240.595797</td>\n",
       "      <td>0.0</td>\n",
       "      <td>False</td>\n",
       "    </tr>\n",
       "    <tr>\n",
       "      <th>B</th>\n",
       "      <td>7797.399212</td>\n",
       "      <td>0.0</td>\n",
       "      <td>False</td>\n",
       "    </tr>\n",
       "  </tbody>\n",
       "</table>\n",
       "</div>"
      ],
      "text/plain": [
       "             W  pval  normal\n",
       "A  2240.595797   0.0   False\n",
       "B  7797.399212   0.0   False"
      ]
     },
     "execution_count": 53,
     "metadata": {},
     "output_type": "execute_result"
    }
   ],
   "source": [
    "pg.normality(data=be_on_platform, dv=\"rev\", group=\"grp\", method=\"normaltest\")"
   ]
  },
  {
   "cell_type": "markdown",
   "metadata": {},
   "source": [
    "Тест Шапиро-Уилка подтвердил ненормальное распределение, поэтому для проверки гипотез мы не можем воспользоваться, например, t-тестом (он же критерий Стьюдента)."
   ]
  },
  {
   "cell_type": "markdown",
   "metadata": {},
   "source": [
    "Далее построим график `countplot` и посмотрим, сколько людей (в обеих группах А и Б) совершали покупки по той или иной цене."
   ]
  },
  {
   "cell_type": "code",
   "execution_count": 54,
   "metadata": {},
   "outputs": [
    {
     "data": {
      "image/png": "[encoded data removed]",
      "text/plain": [
       "<Figure size 1152x360 with 1 Axes>"
      ]
     },
     "metadata": {},
     "output_type": "display_data"
    }
   ],
   "source": [
    "sns.countplot(data = students_rev, x= 'rev', hue = 'grp')\n",
    "plt.xticks(rotation=50)\n",
    "sns.despine()\n",
    "plt.show()"
   ]
  },
  {
   "cell_type": "markdown",
   "metadata": {},
   "source": [
    "Из графика видно, что в ценовом диапазоне, близком к 2000, совершалось больше всего покупок, причем для группы Б, на втором месте в ценовой категории от 200 до 300 условных единиц. Так, можно предположить, что либо новая механика оплаты позволила улучшить показатели, или есть какая-то ошибка в сборе данных (ошибка в сплитовании), ведь количество клиентов в группе Б в ~4 раза больше, чем в группе А."
   ]
  },
  {
   "cell_type": "markdown",
   "metadata": {},
   "source": [
    "### Выбор метрик, формулировка предположения, которое будем тестировать"
   ]
  },
  {
   "cell_type": "markdown",
   "metadata": {},
   "source": [
    "Далее приведен набор метрик, который потенциально можно было бы попробовать сравнить для двух групп А/В теста, чтобы ответить на вопрос, стоит ли запускать новую механику оплаты. Соответственно мы будем далее тестировать, значимо ли различаются данные метрики.\n",
    "\n",
    "- CR (конверсия в покупку): CR = количество клиентов / число пользователей.\n",
    "- ARPU (средний доход с привлечённого пользователя): ARPU = доход / число пользователей.\n",
    "- ARPPU (Средний доход на платящего пользователя, то есть клиента) - число повторных покупок * средний чек.\n",
    "- Средний чек клиента: сумма всех чеков / количество клиентов.\n",
    "\n",
    "Однако в нашем случае все клиенты покупали только 1 раз, поэтому для них ARPPU будет равен среднему чеку. \n",
    "Посчитаем все, кроме ARPPU."
   ]
  },
  {
   "cell_type": "code",
   "execution_count": 55,
   "metadata": {},
   "outputs": [],
   "source": [
    "a_gr_plat = be_on_platform.query('grp == \"A\"')\n",
    "b_gr_plat = be_on_platform.query('grp == \"B\"')"
   ]
  },
  {
   "cell_type": "code",
   "execution_count": 56,
   "metadata": {
    "scrolled": true
   },
   "outputs": [],
   "source": [
    "cr_a_gr = (a_gr_plat[a_gr_plat.rev !=0].rev.count()/ a_gr_plat.rev.count()*100).round(2)\n",
    "cr_b_gr = (b_gr_plat[b_gr_plat.rev !=0].rev.count()/ b_gr_plat.rev.count()*100).round(2)\n",
    "arpu_a = (a_gr_plat.rev.sum()/a_gr_plat.id.nunique()).round(2)\n",
    "arpu_b = (b_gr_plat.rev.sum()/b_gr_plat.id.nunique()).round(2)\n",
    "mean_rev_a = a_gr_plat.query('rev!=0').rev.mean().round(2)\n",
    "mean_rev_b = b_gr_plat.query('rev!=0').rev.mean().round(2)"
   ]
  },
  {
   "cell_type": "markdown",
   "metadata": {},
   "source": [
    "Создадим датафрейм со всеми метриками"
   ]
  },
  {
   "cell_type": "code",
   "execution_count": 57,
   "metadata": {
    "scrolled": true
   },
   "outputs": [
    {
     "data": {
      "text/html": [
       "<div>\n",
       "<style scoped>\n",
       "    .dataframe tbody tr th:only-of-type {\n",
       "        vertical-align: middle;\n",
       "    }\n",
       "\n",
       "    .dataframe tbody tr th {\n",
       "        vertical-align: top;\n",
       "    }\n",
       "\n",
       "    .dataframe thead th {\n",
       "        text-align: right;\n",
       "    }\n",
       "</style>\n",
       "<table border=\"1\" class=\"dataframe\">\n",
       "  <thead>\n",
       "    <tr style=\"text-align: right;\">\n",
       "      <th></th>\n",
       "      <th>group</th>\n",
       "      <th>count_students</th>\n",
       "      <th>count_clients</th>\n",
       "      <th>CR%</th>\n",
       "      <th>ARPU</th>\n",
       "      <th>mean_rev</th>\n",
       "    </tr>\n",
       "  </thead>\n",
       "  <tbody>\n",
       "    <tr>\n",
       "      <th>0</th>\n",
       "      <td>A</td>\n",
       "      <td>1538.0</td>\n",
       "      <td>78.0</td>\n",
       "      <td>5.07</td>\n",
       "      <td>47.35</td>\n",
       "      <td>933.59</td>\n",
       "    </tr>\n",
       "    <tr>\n",
       "      <th>1</th>\n",
       "      <td>B</td>\n",
       "      <td>6803.0</td>\n",
       "      <td>314.0</td>\n",
       "      <td>4.62</td>\n",
       "      <td>58.06</td>\n",
       "      <td>1257.88</td>\n",
       "    </tr>\n",
       "  </tbody>\n",
       "</table>\n",
       "</div>"
      ],
      "text/plain": [
       "  group  count_students  count_clients   CR%   ARPU  mean_rev\n",
       "0     A          1538.0           78.0  5.07  47.35    933.59\n",
       "1     B          6803.0          314.0  4.62  58.06   1257.88"
      ]
     },
     "execution_count": 57,
     "metadata": {},
     "output_type": "execute_result"
    }
   ],
   "source": [
    "df = pd.DataFrame({'group':['A', 'B'],\n",
    "                   'count_students':[stat_describe_be_on_platform['count'][0], stat_describe_be_on_platform['count'][1]],\n",
    "                   'count_clients':[stat_describe_stud_rev['count'][0],stat_describe_stud_rev['count'][1]],\n",
    "                   'CR%':[cr_a_gr, cr_b_gr],\n",
    "                   'ARPU':[arpu_a, arpu_b], \n",
    "                   'mean_rev':[mean_rev_a, mean_rev_b]})\n",
    "df"
   ]
  },
  {
   "cell_type": "code",
   "execution_count": 58,
   "metadata": {},
   "outputs": [
    {
     "data": {
      "image/png": "[encoded data removed]",
      "text/plain": [
       "<Figure size 1152x360 with 1 Axes>"
      ]
     },
     "metadata": {},
     "output_type": "display_data"
    }
   ],
   "source": [
    "ax = sns.boxplot(x='rev', y= 'grp',data=students_rev)"
   ]
  },
  {
   "cell_type": "markdown",
   "metadata": {},
   "source": [
    "Для наглядности приведен график `boxplot`, на котором можно увидеть разброс значений и медиану для значений колонки `rev` для пользователей (кто совершал покупки). Здесь мы видим, что есть выбросы, а медиана в группе В - больше, чем в группе А."
   ]
  },
  {
   "cell_type": "markdown",
   "metadata": {},
   "source": [
    "Как мы можем увидеть из таблицы, конверсия в покупку уменьшилась, однако другие две метрики увеличились, нужно будет проверить, стат.значимы ли эти изменения. "
   ]
  },
  {
   "cell_type": "markdown",
   "metadata": {},
   "source": [
    "### Выбор критериев и проведение А/В-тестов"
   ]
  },
  {
   "cell_type": "markdown",
   "metadata": {},
   "source": [
    "Для выбора критериев необходимо посмотреть на наши метрики и их тип. Итак, у нас есть метрика - средний чек (`mean_rev`) - количественная метрика. Ранее было показано, что значения `rev` распределены ненормально. \n",
    "\n",
    "Также обратим внимание на выборки для А/В тестов, количество пользователей в обеих группах сильно различается, причем в группе В пользователей больше в несколько раз. Это странно, обычно в группе В количество пользователей должно быть меньше, чтобы минимизировать риски в бизнесе. Возможно система сплитования работает некорректно. Однако размер выборок (>30) не ограничивает нас в выборе метода анализа."
   ]
  },
  {
   "cell_type": "markdown",
   "metadata": {},
   "source": [
    "В качестве метрики мы можем для начала потестировать значения среднего чека, как для всех пользователей, так и только для тех, которые совершали покупки. Для этого можно использовать U-критерий Манна-Уитни. В отличие от параметрических тестов, таких как t‑тест Стьюдента (и др.), непараметрический U‑test Манна‑Уитни не делает никаких предположений о форме базового распределения. Его применяют при сравнении средних, когда есть выбросы (у нас как раз они есть в обеих группах, как для всех пользователей, так и для клиентов)."
   ]
  },
  {
   "cell_type": "code",
   "execution_count": 59,
   "metadata": {},
   "outputs": [
    {
     "data": {
      "text/plain": [
       "MannwhitneyuResult(statistic=9001.0, pvalue=0.0002511393831406922)"
      ]
     },
     "execution_count": 59,
     "metadata": {},
     "output_type": "execute_result"
    }
   ],
   "source": [
    "mannwhitneyu(students_rev[students_rev.grp == 'A'].rev, \n",
    "             students_rev[students_rev.grp == 'B'].rev)"
   ]
  },
  {
   "cell_type": "markdown",
   "metadata": {},
   "source": [
    "Здесь гипотеза H0 - разницы в распределениях чеков нет (колонка `rev`), Н1 - разница есть.\n",
    "U-критерий Манна-Уитни показал p-value = 0.00025 < 0,05. Это говорит о том, что можно отвергнуть нулевую гипотезу. Различия в чеках есть в группе В по сравнению с группой А экспермента для клиентов (кто совершал покупки). Как мы видели ранее на графике, различия действительно есть, это увеличение покупок в группе В на сумму ~2000. Но с чем это связано - неизвестно."
   ]
  },
  {
   "cell_type": "code",
   "execution_count": 60,
   "metadata": {},
   "outputs": [
    {
     "data": {
      "text/plain": [
       "MannwhitneyuResult(statistic=1182722.0, pvalue=1.0)"
      ]
     },
     "execution_count": 60,
     "metadata": {},
     "output_type": "execute_result"
    }
   ],
   "source": [
    "mannwhitneyu(a_gr_plat.rev, a_gr_plat.rev)"
   ]
  },
  {
   "cell_type": "markdown",
   "metadata": {},
   "source": [
    "Аналогично, здесь гипотеза H0 - разницы в распределениях чеков нет, Н1 - разница есть. U-критерий Манна-Уитни показал p-value = 1 > 0,05. Это говорит о том, что нельзя отвергнуть нулевую гипотезу и различий в чеках нет для всех пользователей."
   ]
  },
  {
   "cell_type": "markdown",
   "metadata": {},
   "source": [
    "Попробуем применить Бутстрап анализ средних. Данный метод не требует нормальности распределения данных. Однако он лучше работает на маленьких выборках."
   ]
  },
  {
   "cell_type": "code",
   "execution_count": 271,
   "metadata": {},
   "outputs": [],
   "source": [
    "def get_bootstrap(\n",
    "    data_column_1, # числовые значения первой выборки\n",
    "    data_column_2, # числовые значения второй выборки\n",
    "    boot_it = 1000, # количество бутстрэп-подвыборок\n",
    "    statistic = np.mean, # интересующая нас статистика\n",
    "    bootstrap_conf_level = 0.95 # уровень значимости\n",
    "):\n",
    "    boot_data = []\n",
    "    for i in tqdm(range(boot_it)): # извлекаем подвыборки\n",
    "        samples_1 = data_column_1.sample(\n",
    "            len(data_column_1), \n",
    "            replace = True # параметр возвращения\n",
    "        ).values\n",
    "        \n",
    "        samples_2 = data_column_2.sample(\n",
    "            len(data_column_1), \n",
    "            replace = True\n",
    "        ).values\n",
    "        \n",
    "        boot_data.append(statistic(samples_1)-statistic(samples_2)) # mean() - применяем статистику\n",
    "        \n",
    "    pd_boot_data = pd.DataFrame(boot_data)\n",
    "        \n",
    "    left_quant = (1 - bootstrap_conf_level)/2\n",
    "    right_quant = 1 - (1 - bootstrap_conf_level) / 2\n",
    "    quants = pd_boot_data.quantile([left_quant, right_quant])\n",
    "        \n",
    "    p_1 = norm.cdf(\n",
    "        x = 0, \n",
    "        loc = np.mean(boot_data), \n",
    "        scale = np.std(boot_data)\n",
    "    )\n",
    "    p_2 = norm.cdf(\n",
    "        x = 0, \n",
    "        loc = -np.mean(boot_data), \n",
    "        scale = np.std(boot_data)\n",
    "    )\n",
    "    p_value = min(p_1, p_2) * 2\n",
    "        \n",
    "    # Визуализация\n",
    "    _, _, bars = plt.hist(pd_boot_data[0], bins = 50)\n",
    "    for bar in bars:\n",
    "        if bar.get_x() <= quants.iloc[0][0] or bar.get_x() >= quants.iloc[1][0]:\n",
    "            bar.set_facecolor('red')\n",
    "        else: \n",
    "            bar.set_facecolor('grey')\n",
    "            bar.set_edgecolor('black')\n",
    "    \n",
    "    plt.style.use('ggplot')\n",
    "    plt.vlines(quants,ymin=0,ymax=50,linestyle='--')\n",
    "    plt.xlabel('boot_data')\n",
    "    plt.ylabel('frequency')\n",
    "    plt.title(\"Histogram of boot_data\")\n",
    "    plt.show()\n",
    "       \n",
    "    return {\"boot_data\": boot_data, \n",
    "            \"quants\": quants, \n",
    "            \"p_value\": p_value}"
   ]
  },
  {
   "cell_type": "code",
   "execution_count": 272,
   "metadata": {},
   "outputs": [
    {
     "data": {
      "application/vnd.jupyter.widget-view+json": {
       "model_id": "612b90e838334c1ca753930063095b5a",
       "version_major": 2,
       "version_minor": 0
      },
      "text/plain": [
       "HBox(children=(FloatProgress(value=0.0, max=1000.0), HTML(value='')))"
      ]
     },
     "metadata": {},
     "output_type": "display_data"
    },
    {
     "name": "stdout",
     "output_type": "stream",
     "text": [
      "\n"
     ]
    },
    {
     "data": {
      "image/png": "[encoded data removed]",
      "text/plain": [
       "<Figure size 1152x360 with 1 Axes>"
      ]
     },
     "metadata": {},
     "output_type": "display_data"
    }
   ],
   "source": [
    "from scipy.stats import norm\n",
    "boot_data_students_all  = get_bootstrap(\n",
    "                      a_gr_plat.rev, # числовые значения первой выборки\n",
    "                      b_gr_plat.rev, # числовые значения второй выборки\n",
    "                      boot_it = 1000, # количество бутстрэп-подвыборок\n",
    "                      statistic = np.mean, # интересующая нас статистика\n",
    "                      bootstrap_conf_level = 0.95 # уровень значимости\n",
    "                      )"
   ]
  },
  {
   "cell_type": "code",
   "execution_count": 273,
   "metadata": {},
   "outputs": [
    {
     "data": {
      "text/plain": [
       "0.32931319501860346"
      ]
     },
     "execution_count": 273,
     "metadata": {},
     "output_type": "execute_result"
    }
   ],
   "source": [
    "boot_data_students_all[\"p_value\"] # р-уровень значимости"
   ]
  },
  {
   "cell_type": "code",
   "execution_count": 274,
   "metadata": {},
   "outputs": [
    {
     "data": {
      "text/html": [
       "<div>\n",
       "<style scoped>\n",
       "    .dataframe tbody tr th:only-of-type {\n",
       "        vertical-align: middle;\n",
       "    }\n",
       "\n",
       "    .dataframe tbody tr th {\n",
       "        vertical-align: top;\n",
       "    }\n",
       "\n",
       "    .dataframe thead th {\n",
       "        text-align: right;\n",
       "    }\n",
       "</style>\n",
       "<table border=\"1\" class=\"dataframe\">\n",
       "  <thead>\n",
       "    <tr style=\"text-align: right;\">\n",
       "      <th></th>\n",
       "      <th>0</th>\n",
       "    </tr>\n",
       "  </thead>\n",
       "  <tbody>\n",
       "    <tr>\n",
       "      <th>0.025</th>\n",
       "      <td>-32.431421</td>\n",
       "    </tr>\n",
       "    <tr>\n",
       "      <th>0.975</th>\n",
       "      <td>10.030559</td>\n",
       "    </tr>\n",
       "  </tbody>\n",
       "</table>\n",
       "</div>"
      ],
      "text/plain": [
       "               0\n",
       "0.025 -32.431421\n",
       "0.975  10.030559"
      ]
     },
     "execution_count": 274,
     "metadata": {},
     "output_type": "execute_result"
    }
   ],
   "source": [
    "boot_data_students_all[\"quants\"] # Доверительный интервал"
   ]
  },
  {
   "cell_type": "markdown",
   "metadata": {},
   "source": [
    "Аналогично, как для предыдущего теста, гипотеза Н0 - нет различий, Н1 - есть различия в средних чеках. Здесь мы анализируем средние чеки всех пользователей, и, как видно из рисунка, есть пересечения с 0, а p-value = 0.3542, что говорит о том, что мы не отклоняем нулевую гипотезу, различий в чеках нет для всех пользователей. Данный вывод согласуется с тестом Манна-Уитни."
   ]
  },
  {
   "cell_type": "code",
   "execution_count": 275,
   "metadata": {},
   "outputs": [
    {
     "data": {
      "application/vnd.jupyter.widget-view+json": {
       "model_id": "6246b37f04fa4f3fb5e9b22907fe7f82",
       "version_major": 2,
       "version_minor": 0
      },
      "text/plain": [
       "HBox(children=(FloatProgress(value=0.0, max=1000.0), HTML(value='')))"
      ]
     },
     "metadata": {},
     "output_type": "display_data"
    },
    {
     "name": "stdout",
     "output_type": "stream",
     "text": [
      "\n"
     ]
    },
    {
     "data": {
      "image/png": "[encoded data removed]",
      "text/plain": [
       "<Figure size 1152x360 with 1 Axes>"
      ]
     },
     "metadata": {},
     "output_type": "display_data"
    }
   ],
   "source": [
    "from scipy.stats import norm\n",
    "boot_data_students_rev = get_bootstrap(\n",
    "                      students_rev[students_rev.grp == 'A'].rev, # числовые значения первой выборки\n",
    "                      students_rev[students_rev.grp == 'B'].rev, # числовые значения второй выборки\n",
    "                      boot_it = 1000, # количество бутстрэп-подвыборок\n",
    "                      statistic = np.mean, # интересующая нас статистика\n",
    "                      bootstrap_conf_level = 0.95 # уровень значимости\n",
    "                      )"
   ]
  },
  {
   "cell_type": "code",
   "execution_count": 276,
   "metadata": {},
   "outputs": [
    {
     "data": {
      "text/plain": [
       "0.017772788571554635"
      ]
     },
     "execution_count": 276,
     "metadata": {},
     "output_type": "execute_result"
    }
   ],
   "source": [
    "boot_data_students_rev[\"p_value\"] # р-уровень значимости"
   ]
  },
  {
   "cell_type": "code",
   "execution_count": 277,
   "metadata": {},
   "outputs": [
    {
     "data": {
      "text/html": [
       "<div>\n",
       "<style scoped>\n",
       "    .dataframe tbody tr th:only-of-type {\n",
       "        vertical-align: middle;\n",
       "    }\n",
       "\n",
       "    .dataframe tbody tr th {\n",
       "        vertical-align: top;\n",
       "    }\n",
       "\n",
       "    .dataframe thead th {\n",
       "        text-align: right;\n",
       "    }\n",
       "</style>\n",
       "<table border=\"1\" class=\"dataframe\">\n",
       "  <thead>\n",
       "    <tr style=\"text-align: right;\">\n",
       "      <th></th>\n",
       "      <th>0</th>\n",
       "    </tr>\n",
       "  </thead>\n",
       "  <tbody>\n",
       "    <tr>\n",
       "      <th>0.025</th>\n",
       "      <td>-583.784946</td>\n",
       "    </tr>\n",
       "    <tr>\n",
       "      <th>0.975</th>\n",
       "      <td>-51.418278</td>\n",
       "    </tr>\n",
       "  </tbody>\n",
       "</table>\n",
       "</div>"
      ],
      "text/plain": [
       "                0\n",
       "0.025 -583.784946\n",
       "0.975  -51.418278"
      ]
     },
     "execution_count": 277,
     "metadata": {},
     "output_type": "execute_result"
    }
   ],
   "source": [
    "boot_data_students_rev[\"quants\"] # Доверительный интервал"
   ]
  },
  {
   "cell_type": "markdown",
   "metadata": {},
   "source": [
    "Здесь мы анализируем средние чеки только для платящих клиентов. Аналогично, гипотеза Н0 - нет различий, Н1 - есть различия в средних чеках клиентов.  Как видно из рисунка, нет пересечения с 0, а p-value = 0.0158, что меньше 0,05. Это говорит о том, что мы отклоняем нулевую гипотезу, а различя в чеках есть в группе В по сравнению с группой А для платящих клиентов. Данный вывод согласуется с тестом Манна-Уитни. "
   ]
  },
  {
   "cell_type": "code",
   "execution_count": 278,
   "metadata": {},
   "outputs": [
    {
     "data": {
      "text/html": [
       "<div>\n",
       "<style scoped>\n",
       "    .dataframe tbody tr th:only-of-type {\n",
       "        vertical-align: middle;\n",
       "    }\n",
       "\n",
       "    .dataframe tbody tr th {\n",
       "        vertical-align: top;\n",
       "    }\n",
       "\n",
       "    .dataframe thead th {\n",
       "        text-align: right;\n",
       "    }\n",
       "</style>\n",
       "<table border=\"1\" class=\"dataframe\">\n",
       "  <thead>\n",
       "    <tr style=\"text-align: right;\">\n",
       "      <th></th>\n",
       "      <th>group</th>\n",
       "      <th>count_students</th>\n",
       "      <th>count_clients</th>\n",
       "      <th>CR%</th>\n",
       "      <th>ARPU</th>\n",
       "      <th>mean_rev</th>\n",
       "    </tr>\n",
       "  </thead>\n",
       "  <tbody>\n",
       "    <tr>\n",
       "      <th>0</th>\n",
       "      <td>A</td>\n",
       "      <td>1538.0</td>\n",
       "      <td>78.0</td>\n",
       "      <td>5.07</td>\n",
       "      <td>47.35</td>\n",
       "      <td>933.59</td>\n",
       "    </tr>\n",
       "    <tr>\n",
       "      <th>1</th>\n",
       "      <td>B</td>\n",
       "      <td>6803.0</td>\n",
       "      <td>314.0</td>\n",
       "      <td>4.62</td>\n",
       "      <td>58.06</td>\n",
       "      <td>1257.88</td>\n",
       "    </tr>\n",
       "  </tbody>\n",
       "</table>\n",
       "</div>"
      ],
      "text/plain": [
       "  group  count_students  count_clients   CR%   ARPU  mean_rev\n",
       "0     A          1538.0           78.0  5.07  47.35    933.59\n",
       "1     B          6803.0          314.0  4.62  58.06   1257.88"
      ]
     },
     "execution_count": 278,
     "metadata": {},
     "output_type": "execute_result"
    }
   ],
   "source": [
    "df # Результирующий датафрейм"
   ]
  },
  {
   "cell_type": "markdown",
   "metadata": {},
   "source": [
    "Далее обратим внимаение на метрику CR. Наилучший метод, чтобы проверить статистическую значимость изменения для пропорций (а CR - пророрция, то есть качественная метрика) - это метод Хи‑Квадрат (критерий согласия Пирсона). Здесь мы анализируем число положительных событий относительно всех событий (число клиентов, кто совершил покупку, относительно всех пользователей, кто был на платформе в дни эксперимента, что является как раз конверсией или CR. Данный критерий подходит, для таблицы сопряженности любого размера, где значения ожидаемых и наблюдаемых частот в каждой ячейке больше 10 (наш случай).\n",
    "\n",
    "Здесь H0 - нет значимых различий в CR, H1 - Есть значимые различия в CR."
   ]
  },
  {
   "cell_type": "code",
   "execution_count": 71,
   "metadata": {},
   "outputs": [
    {
     "name": "stdout",
     "output_type": "stream",
     "text": [
      "Хи-квадрат p-value:  0.4672642540463894\n",
      "Доверительный интервал изменения:  (0.6560451352088277, 1.1641623901287872)\n",
      "Отклоняем альтернативную гипотезу H1, принимаем Н0: разницы в конверсиях нет\n"
     ]
    }
   ],
   "source": [
    "# Запишем данные в переменные для двух групп:\n",
    "# Первое значение - количество успешных действий (те, кто купили), второе значение - общее количество попыток (все пользователи)\n",
    "\n",
    "group_B = [df.count_clients[1], df.count_students[1]]\n",
    "group_A = [df.count_clients[0], df.count_students[0]] \n",
    "\n",
    "# Запустим тест\n",
    "chi2, p, dof, ex = ss.chi2_contingency([group_A, group_B], correction=False)\n",
    "\n",
    "# Рассчитаем доверительный интервал для изменения\n",
    "lift = (group_B[0]/group_B[1])/(group_A[0]/group_A[1])\n",
    "std_error = np.sqrt(1/group_B[0] + 1/group_B[1] + 1/group_A[0] + 1/group_A[1])\n",
    "ci = ss.norm.interval(0.95, loc=lift, scale=std_error)\n",
    "\n",
    "# Выводим результаты\n",
    "print(\"Хи-квадрат p-value: \", p)\n",
    "print(\"Доверительный интервал изменения: \", ci)\n",
    "\n",
    "# Проверяем есть ли изменение\n",
    "if p < 0.05 and ci[0] > 1:\n",
    "    print(\"Отклоняем нулевую гипотезу H0, принимаем альтернативную H1.\")\n",
    "else:\n",
    "    print(\"Отклоняем альтернативную гипотезу H1, принимаем Н0: разницы в конверсиях нет\")"
   ]
  },
  {
   "cell_type": "markdown",
   "metadata": {},
   "source": [
    "### Выводы\n",
    "- Стоит ли запускать новую механику на всех пользователей?\n",
    "\n",
    "Исходя из проведенных исследований, нельзя с точностью сказать, принимать ли новую систему оплаты или нет, все зависит от цели А/В теста. \n",
    "\n",
    "Если говорить о конверсии в покупку (CR) - то она упала, тем не менее, согласно тесту хи-квадрат - эта разница статистически не значима. Также нужно сказать, что \n",
    "\n",
    "Однако ARPU и средняя выручка (именно для клиентов) выросли (средняя выручка для всех пользователей одинаковая и равна ~0), поэтому прежде, чем принимать новую механику оплаты, необходимо дополнительно уточнить у команды все недостающие данные (что стало причиной такого неравномерного сплитования, что обуславливало рост в группе \"В\" товаров на сумму, близкую к 2000)? \n",
    "\n",
    "Видимо, мы видим рост средней выручки и рост других метрик или из-за неверного сплитования, либо ввиду того, что клиенты начали покупать товары на сумму ~2000, возможно здесь и сыграла роль новая система оплаты, однако я бы не стала сразу запускать новую механику на всех пользователях без дополнительных уточнений."
   ]
  },
  {
   "cell_type": "markdown",
   "metadata": {},
   "source": [
    "### Задание 2. SQL\n",
    "\n",
    "    1. Очень усердные ученики.\n",
    "\n",
    "1.1 Условие\n",
    "\n",
    "Образовательные курсы состоят из различных уроков, каждый из которых состоит из нескольких маленьких заданий. Каждое такое маленькое задание называется \"горошиной\".\n",
    "\n",
    "Назовём очень усердным учеником того пользователя, который хотя бы раз за текущий месяц правильно решил 20 горошин.\n",
    "\n",
    "1.2 Задача\n",
    "\n",
    "Дана таблица `default.peas`:\n",
    "\n",
    "Название атрибута|Тип атрибута|Смысловое значение\n",
    "-----------------|-------------|------------------\n",
    "st_id|int|ID ученика\n",
    "timest|timestamp|Время решения карточки\n",
    "correct|bool|Правильно ли решена горошина?\n",
    "subject|text|Дисциплина, в которой находится горошина\n",
    "\n",
    "\n",
    "Необходимо написать оптимальный запрос, который даст информацию о количестве очень усердных студентов.\n",
    "- NB! Под усердным студентом мы понимаем студента, который правильно решил 20 задач за текущий месяц.\n",
    "\n",
    "    2. Оптимизация воронки\n",
    "\n",
    "2.1 Условие\n",
    "\n",
    "Образовательная платформа предлагает пройти студентам курсы по модели trial: студент может решить бесплатно лишь 30 горошин в день. Для неограниченного количества заданий в определенной дисциплине студенту необходимо приобрести полный доступ. Команда провела эксперимент, где был протестирован новый экран оплаты.\n",
    "\n",
    "2.2 Задача\n",
    "\n",
    "Дана таблицы: `default.peas` (см. выше), `default.studs`:\n",
    "\n",
    "Название атрибута|\tТип атрибута|\tСмысловое значение\n",
    "-----------------|-------------|------------------\n",
    "st_id|\tint|\t ID ученика\n",
    "test_grp|\ttext\t| Метка ученика в данном эксперименте\n",
    "\n",
    "и `default.final_project_check`:\n",
    "\n",
    "Название атрибута|\tТип атрибута|\tСмысловое значение\n",
    "-----------------|-------------|------------------\n",
    "st_id\t|int \t|ID ученика\n",
    "sale_time|\ttimestamp|\tВремя покупки\n",
    "money|\tint|\tЦена, по которой приобрели данный курс\n",
    "subject|\ttext | Предмет\n",
    "\n",
    "Необходимо в одном запросе выгрузить следующую информацию о группах пользователей:\n",
    "\n",
    "- ARPU \n",
    "- ARPAU \n",
    "- CR в покупку \n",
    "- СR активного пользователя в покупку \n",
    "- CR пользователя из активности по математике (`subject = 'math'`) в покупку курса по математике\n",
    "\n",
    "ARPU считается относительно всех пользователей, попавших в группы.\n",
    "\n",
    "Активным считается пользователь, за все время решивший больше 10 задач правильно в любых дисциплинах.\n",
    "\n",
    "Активным по математике считается пользователь, за все время решивший 2 или больше задач правильно по математике."
   ]
  },
  {
   "cell_type": "code",
   "execution_count": 73,
   "metadata": {},
   "outputs": [],
   "source": [
    "import pandahouse as ph"
   ]
  },
  {
   "cell_type": "code",
   "execution_count": 74,
   "metadata": {},
   "outputs": [],
   "source": [
    "connection_default = {'host': 'https://clickhouse.lab.karpov.courses',\n",
    "                      'database':'default',\n",
    "                      'user':'student', \n",
    "                      'password':'dpo_python_2020'\n",
    "                     }"
   ]
  },
  {
   "cell_type": "code",
   "execution_count": 75,
   "metadata": {},
   "outputs": [
    {
     "name": "stdout",
     "output_type": "stream",
     "text": [
      "Ответ на задачу 1.2. Количество очень усердных студентов -  136 человек\n"
     ]
    }
   ],
   "source": [
    "query = \"\"\"\n",
    "SELECT COUNT(DISTINCT st_id) AS active_students\n",
    "\n",
    "FROM (\n",
    "    SELECT st_id, COUNT(subject) AS number_sub\n",
    "    FROM default.peas \n",
    "    WHERE correct = 1\n",
    "    GROUP BY st_id\n",
    "    HAVING number_sub >= 20\n",
    "    )\n",
    "\"\"\"\n",
    "df_1 = ph.read_clickhouse(query, connection=connection_default)\n",
    "print ('Ответ на задачу 1.2. Количество очень усердных студентов - ', df_1.active_students[0], 'человек')"
   ]
  },
  {
   "cell_type": "code",
   "execution_count": 76,
   "metadata": {},
   "outputs": [
    {
     "name": "stdout",
     "output_type": "stream",
     "text": [
      "Ответ на задачу 2.2:\n"
     ]
    },
    {
     "data": {
      "text/html": [
       "<div>\n",
       "<style scoped>\n",
       "    .dataframe tbody tr th:only-of-type {\n",
       "        vertical-align: middle;\n",
       "    }\n",
       "\n",
       "    .dataframe tbody tr th {\n",
       "        vertical-align: top;\n",
       "    }\n",
       "\n",
       "    .dataframe thead th {\n",
       "        text-align: right;\n",
       "    }\n",
       "</style>\n",
       "<table border=\"1\" class=\"dataframe\">\n",
       "  <thead>\n",
       "    <tr style=\"text-align: right;\">\n",
       "      <th></th>\n",
       "      <th>test_grp</th>\n",
       "      <th>CR_percent</th>\n",
       "      <th>CR_active_percent</th>\n",
       "      <th>CR_active_math_percent</th>\n",
       "      <th>ARPU</th>\n",
       "      <th>ARPAU</th>\n",
       "    </tr>\n",
       "  </thead>\n",
       "  <tbody>\n",
       "    <tr>\n",
       "      <th>0</th>\n",
       "      <td>control</td>\n",
       "      <td>4.92</td>\n",
       "      <td>11.02</td>\n",
       "      <td>6.12</td>\n",
       "      <td>4540.98</td>\n",
       "      <td>10905.51</td>\n",
       "    </tr>\n",
       "    <tr>\n",
       "      <th>1</th>\n",
       "      <td>pilot</td>\n",
       "      <td>10.85</td>\n",
       "      <td>26.04</td>\n",
       "      <td>9.52</td>\n",
       "      <td>11508.47</td>\n",
       "      <td>35364.58</td>\n",
       "    </tr>\n",
       "  </tbody>\n",
       "</table>\n",
       "</div>"
      ],
      "text/plain": [
       "  test_grp  CR_percent  CR_active_percent  CR_active_math_percent      ARPU  \\\n",
       "0  control        4.92              11.02                    6.12   4540.98   \n",
       "1    pilot       10.85              26.04                    9.52  11508.47   \n",
       "\n",
       "      ARPAU  \n",
       "0  10905.51  \n",
       "1  35364.58  "
      ]
     },
     "execution_count": 76,
     "metadata": {},
     "output_type": "execute_result"
    }
   ],
   "source": [
    "query = \"\"\"\n",
    "        --a\n",
    "WITH sum_students AS \n",
    "    (SELECT COUNT(DISTINCT st_id) AS all_students,test_grp  FROM default.studs GROUP BY test_grp),\n",
    "        \n",
    "        --b\n",
    "    clients AS \n",
    "    (SELECT \n",
    "        COUNT(DISTINCT a.st_id) AS clients, \n",
    "        a.test_grp AS test_grp\n",
    "        FROM default.studs AS a\n",
    "        INNER JOIN default.final_project_check AS b\n",
    "        USING(st_id)\n",
    "        GROUP BY test_grp\n",
    "        ),\n",
    "        \n",
    "        --c\n",
    "    active_students AS \n",
    "    (SELECT COUNT(DISTINCT st_id) AS active_students,test_grp\n",
    "    FROM (\n",
    "        SELECT\n",
    "            a.st_id AS st_id,\n",
    "            b.test_grp AS test_grp\n",
    "        FROM default.peas AS a\n",
    "        INNER JOIN default.studs AS b\n",
    "        USING st_id\n",
    "        GROUP BY test_grp, st_id\n",
    "        HAVING SUM(correct) > 10\n",
    "        )\n",
    "    GROUP BY test_grp),\n",
    "    \n",
    "        --d\n",
    "    active_students_math AS\n",
    "    (SELECT COUNT(DISTINCT st_id) AS active_students_math,test_grp\n",
    "    FROM\n",
    "        (\n",
    "        SELECT\n",
    "            a.st_id AS st_id,\n",
    "            b.test_grp AS test_grp\n",
    "            \n",
    "        FROM default.peas AS a\n",
    "        INNER JOIN default.studs AS b\n",
    "        USING st_id\n",
    "        WHERE subject = 'Math'\n",
    "        GROUP BY test_grp, st_id\n",
    "        HAVING SUM(correct) >= 2\n",
    "        )\n",
    "        GROUP BY test_grp),\n",
    "    \n",
    "        --e\n",
    "    sum_money AS\n",
    "    (SELECT \n",
    "        SUM(a.money) AS sum_money,\n",
    "        b.test_grp\n",
    "    FROM default.final_project_check AS a\n",
    "    JOIN default.studs AS b\n",
    "    USING (st_id)\n",
    "    GROUP BY test_grp),\n",
    "       \n",
    "        --f\n",
    "    active_clients AS\n",
    "    (SELECT COUNT(DISTINCT st_id) AS active_clients, test_grp\n",
    "    FROM (\n",
    "        SELECT a.st_id, a.test_grp AS test_grp\n",
    "        FROM (\n",
    "            SELECT\n",
    "                a.st_id AS st_id,\n",
    "                b.test_grp AS test_grp\n",
    "            FROM default.peas AS a\n",
    "            LEFT JOIN default.studs AS b\n",
    "            ON a.st_id = b.st_id\n",
    "            GROUP BY test_grp, st_id\n",
    "            HAVING SUM(a.correct) > 10\n",
    "            ) AS a\n",
    "        INNER JOIN default.final_project_check AS b\n",
    "        USING (st_id)\n",
    "        )\n",
    "    GROUP BY test_grp),\n",
    "    \n",
    "        --g\n",
    "    active_clients_math AS\n",
    "    (SELECT COUNT(DISTINCT st_id) AS active_clients_math, test_grp\n",
    "    FROM \n",
    "        (\n",
    "        SELECT a.st_id AS st_id, a.test_grp AS test_grp\n",
    "        FROM\n",
    "            (\n",
    "            SELECT\n",
    "                a.st_id AS st_id,\n",
    "                b.test_grp AS test_grp\n",
    "            FROM default.peas AS a\n",
    "            INNER JOIN default.studs AS b\n",
    "            USING st_id\n",
    "            WHERE subject = 'Math'\n",
    "            GROUP BY test_grp, st_id\n",
    "            HAVING SUM(correct) >= 2\n",
    "            ) AS a\n",
    "        INNER JOIN default.final_project_check AS b\n",
    "        USING st_id\n",
    "        WHERE b.subject = 'Math'\n",
    "        GROUP BY test_grp, st_id\n",
    "        )\n",
    "    GROUP BY test_grp)\n",
    "    \n",
    "    \n",
    "SELECT\n",
    "a.test_grp AS test_grp,\n",
    "b.clients/a.all_students * 100 AS CR_percent,\n",
    "f.active_clients/c.active_students * 100 AS CR_active_percent,\n",
    "g.active_clients_math/d.active_students_math * 100 AS CR_active_math_percent,\n",
    "e.sum_money/a.all_students AS ARPU,\n",
    "e.sum_money/c.active_students AS ARPAU\n",
    "\n",
    "FROM sum_students AS a\n",
    "\n",
    "LEFT JOIN clients AS b\n",
    "ON a.test_grp = b.test_grp\n",
    "\n",
    "LEFT JOIN active_students AS c\n",
    "ON a.test_grp = c.test_grp\n",
    "\n",
    "LEFT JOIN active_students_math AS d\n",
    "ON a.test_grp = d.test_grp\n",
    "\n",
    "LEFT JOIN sum_money AS e\n",
    "ON a.test_grp = e.test_grp\n",
    "\n",
    "LEFT JOIN active_clients AS f\n",
    "ON a.test_grp = f.test_grp\n",
    "\n",
    "LEFT JOIN active_clients_math AS g\n",
    "ON a.test_grp = g.test_grp\n",
    "\n",
    "\"\"\"\n",
    "df_2 = ph.read_clickhouse(query, connection=connection_default).round(2)\n",
    "print ('Ответ на задачу 2.2:')\n",
    "df_2"
   ]
  },
  {
   "cell_type": "markdown",
   "metadata": {},
   "source": [
    "### Задание 3. Python\n",
    "3.1 Задача\n",
    "\n",
    "1. Реализуйте функцию, которая будет автоматически подгружать информацию из дополнительного файла `groups_add.csv` (заголовки могут отличаться) и на основании дополнительных параметров пересчитывать метрики.\n",
    "2. Реализуйте функцию, которая будет строить графики по получаемым метрикам."
   ]
  },
  {
   "cell_type": "code",
   "execution_count": 85,
   "metadata": {},
   "outputs": [],
   "source": [
    "def file_append_and_metrics_count(url_groups, url_groups_add, url_checks, url_active_studs):\n",
    "    \n",
    "    import pandas as pd\n",
    "    from urllib.parse import urlencode\n",
    "    import requests\n",
    "        \n",
    "    \n",
    "    # Используем API\n",
    "    base_url = 'https://cloud-api.yandex.net/v1/disk/public/resources/download?'\n",
    "    \n",
    "    # Получаем URL\n",
    "    visits_url_groups = base_url + urlencode(dict(public_key = url_groups))\n",
    "    visits_url_groups_add = base_url + urlencode(dict(public_key = url_groups_add))\n",
    "    visits_url_checks = base_url + urlencode(dict(public_key = url_checks))\n",
    "    visits_url_active_studs = base_url + urlencode(dict(public_key = url_active_studs))\n",
    "    \n",
    "    response_1 = requests.get(visits_url_groups) \n",
    "    download_url_1 = response_1.json()['href'] \n",
    "    \n",
    "    response_2 = requests.get(visits_url_groups_add) \n",
    "    download_url_2 = response_2.json()['href'] \n",
    "    \n",
    "    response_3 = requests.get(visits_url_checks) \n",
    "    download_url_3 = response_3.json()['href'] \n",
    "    \n",
    "    response_4 = requests.get(visits_url_active_studs) \n",
    "    download_url_4 = response_4.json()['href'] \n",
    "         \n",
    "    # Загружаем файл в df \n",
    "    download_response_1 = requests.get(download_url_1)\n",
    "    download_response_2 = requests.get(download_url_2)\n",
    "    download_response_3 = requests.get(download_url_3)\n",
    "    download_response_4 = requests.get(download_url_4)\n",
    "    \n",
    "    groups = pd.read_csv(download_url_1, sep = ';')\n",
    "    groups = groups.rename(columns = {groups.columns[0] : 'id', groups.columns[1] : 'grp'})\n",
    "    \n",
    "    group_add = pd.read_csv(download_url_2)\n",
    "    group_add = group_add.rename(columns = {group_add.columns[0] : 'id', group_add.columns[1] : 'grp'})\n",
    "    \n",
    "    checks = pd.read_csv(download_url_3, sep = ';')\n",
    "    checks = checks.rename(columns = {checks.columns[0] : 'id'})\n",
    "    \n",
    "    active_studs = pd.read_csv(download_url_4)\n",
    "    active_studs = active_studs.rename(columns = {active_studs.columns[0] : 'id'})\n",
    "    \n",
    "    # Объединим датафреймы, удалив дубликаты и пропуски\n",
    "    all_students = groups.merge(group_add, how = 'outer', on = ['id','grp']).drop_duplicates().dropna()\n",
    "    \n",
    "    # Добавляем колонку \"be_on_platform\" с значением 1 - это пользователи, которые были на платформе во время А/В теста\n",
    "    active_studs.insert(loc=1, column='be_on_platform', value = 1) \n",
    "    \n",
    "    # Получаем обобщенную таблицу со всеми пользователями, кто был и кого не было в дни А/В теста\n",
    "    all_students_ab = all_students.merge(active_studs, how = 'outer', on = ['id'])\n",
    "    \n",
    "    # Заполним все пустые ячейки значением 0 (пользователи, которые не были на платформе в дни А/В теста)\n",
    "    all_students_ab['be_on_platform'] = all_students_ab['be_on_platform'].fillna(0)\n",
    "    all_students_ab = all_students_ab.merge(checks, how = 'outer', on = ['id'])\n",
    "    all_students_ab.rev = all_students_ab.rev.fillna(0)\n",
    "    \n",
    "    # Отфильтруем пользователей, которые были на платформе в дни эксперимента\n",
    "    be_on_platform = all_students_ab.query('be_on_platform == 1') # Все пользователи\n",
    "    \n",
    "    # Посчитаем основные стат.параметры для всех пользователей и для клиентов\n",
    "    stat_describe_be_on_platform = be_on_platform.groupby('grp').rev.describe().reset_index() \n",
    "    \n",
    "    students_rev = be_on_platform.query('rev != 0') # Клиенты\n",
    "    stat_describe_stud_rev = students_rev.groupby('grp').rev.describe().reset_index() \n",
    "    \n",
    "    # Создадим датафреймы, которые содержат в себе только пользователей или клиентов отдельно для группы А и группы В\n",
    "    students_rev_a = students_rev.query('grp == \"A\"')\n",
    "    students_rev_b = students_rev.query('grp == \"B\"')\n",
    "\n",
    "    a_gr_plat = be_on_platform.query('grp == \"A\"')\n",
    "    b_gr_plat = be_on_platform.query('grp == \"B\"')\n",
    "    \n",
    "    # Рассчитаем метрики\n",
    "    cr_a_gr = (a_gr_plat[a_gr_plat.rev !=0].rev.count()/ a_gr_plat.rev.count()*100).round(2)\n",
    "    cr_b_gr = (b_gr_plat[b_gr_plat.rev !=0].rev.count()/ b_gr_plat.rev.count()*100).round(2)\n",
    "    arpu_a = (a_gr_plat.rev.sum()/a_gr_plat.id.nunique()).round(2)\n",
    "    arpu_b = (b_gr_plat.rev.sum()/b_gr_plat.id.nunique()).round(2)\n",
    "    mean_rev_a = a_gr_plat.query('rev!=0').rev.mean().round(2)\n",
    "    mean_rev_b = b_gr_plat.query('rev!=0').rev.mean().round(2)\n",
    "    \n",
    "    # Создадим результирующий датафрейм со всеми метриками\n",
    "    df = pd.DataFrame({'group':['A', 'B'],\n",
    "                   'count_students':[stat_describe_be_on_platform['count'][0], stat_describe_be_on_platform['count'][1]],\n",
    "                   'count_clients':[stat_describe_stud_rev['count'][0],stat_describe_stud_rev['count'][1]],\n",
    "                   'CR%':[cr_a_gr, cr_b_gr],\n",
    "                   'ARPU':[arpu_a, arpu_b], \n",
    "                   'mean_rev_clients':[mean_rev_a, mean_rev_b]})\n",
    "    \n",
    "    return df"
   ]
  },
  {
   "cell_type": "code",
   "execution_count": 86,
   "metadata": {},
   "outputs": [],
   "source": [
    "url_groups_add = 'https://disk.yandex.ru/d/5Kxrz02m3IBUwQ'\n",
    "url_groups = 'https://disk.yandex.ru/d/UhyYx41rTt3clQ'\n",
    "url_checks = 'https://disk.yandex.ru/d/pH1q-VqcxXjsVA'\n",
    "url_active_studs = 'https://disk.yandex.ru/d/Tbs44Bm6H_FwFQ'"
   ]
  },
  {
   "cell_type": "code",
   "execution_count": 87,
   "metadata": {},
   "outputs": [
    {
     "data": {
      "text/html": [
       "<div>\n",
       "<style scoped>\n",
       "    .dataframe tbody tr th:only-of-type {\n",
       "        vertical-align: middle;\n",
       "    }\n",
       "\n",
       "    .dataframe tbody tr th {\n",
       "        vertical-align: top;\n",
       "    }\n",
       "\n",
       "    .dataframe thead th {\n",
       "        text-align: right;\n",
       "    }\n",
       "</style>\n",
       "<table border=\"1\" class=\"dataframe\">\n",
       "  <thead>\n",
       "    <tr style=\"text-align: right;\">\n",
       "      <th></th>\n",
       "      <th>group</th>\n",
       "      <th>count_students</th>\n",
       "      <th>count_clients</th>\n",
       "      <th>CR%</th>\n",
       "      <th>ARPU</th>\n",
       "      <th>mean_rev_clients</th>\n",
       "    </tr>\n",
       "  </thead>\n",
       "  <tbody>\n",
       "    <tr>\n",
       "      <th>0</th>\n",
       "      <td>A</td>\n",
       "      <td>1538.0</td>\n",
       "      <td>78.0</td>\n",
       "      <td>5.07</td>\n",
       "      <td>47.35</td>\n",
       "      <td>933.59</td>\n",
       "    </tr>\n",
       "    <tr>\n",
       "      <th>1</th>\n",
       "      <td>B</td>\n",
       "      <td>6803.0</td>\n",
       "      <td>314.0</td>\n",
       "      <td>4.62</td>\n",
       "      <td>58.06</td>\n",
       "      <td>1257.88</td>\n",
       "    </tr>\n",
       "  </tbody>\n",
       "</table>\n",
       "</div>"
      ],
      "text/plain": [
       "  group  count_students  count_clients   CR%   ARPU  mean_rev_clients\n",
       "0     A          1538.0           78.0  5.07  47.35            933.59\n",
       "1     B          6803.0          314.0  4.62  58.06           1257.88"
      ]
     },
     "execution_count": 87,
     "metadata": {},
     "output_type": "execute_result"
    }
   ],
   "source": [
    "metrics_df = file_append_and_metrics_count(url_groups, url_groups_add, url_checks, url_active_studs)\n",
    "metrics_df"
   ]
  },
  {
   "cell_type": "code",
   "execution_count": 90,
   "metadata": {},
   "outputs": [],
   "source": [
    "def draw_plot (metrics):\n",
    "    colors = [\"#69b3a2\", \"#4374B3\"]\n",
    "    sns.set_palette(sns.color_palette(colors))\n",
    "\n",
    "    # Set up the matplotlib figure\n",
    "    f, (ax1, ax2, ax3, ax4, ax5) = plt.subplots(1,5)\n",
    "\n",
    "    # Set the figure size\n",
    "    plt.figure(figsize=(5, 6))\n",
    "\n",
    "    sns.barplot(x= 'group', y='count_students', data = metrics, ax = ax1)\n",
    "    ax1.set(xlabel = '', ylabel='', title='Count students')\n",
    "\n",
    "    sns.barplot(x= 'group', y='count_clients', data = metrics, ax = ax2)\n",
    "    ax2.set(xlabel = '', ylabel='', title='Сount clients')\n",
    "\n",
    "    sns.barplot(x= 'group', y='CR%', data = metrics, ax = ax3)\n",
    "    ax3.set(xlabel = '', ylabel='', title='CR, %')\n",
    "\n",
    "    sns.barplot(x= 'group', y='ARPU', data = metrics, ax = ax4)\n",
    "    ax4.set(xlabel = '', ylabel='', title='ARPU')\n",
    "\n",
    "    sns.barplot(x= 'group', y='mean_rev_clients', data = metrics, ax = ax5)\n",
    "    ax5.set(xlabel = '', ylabel='', title='Mean revenue (clients)')\n",
    "\n",
    "\n",
    "    sns.despine()\n",
    "    plt.show()\n",
    "    \n",
    "    return"
   ]
  },
  {
   "cell_type": "code",
   "execution_count": 91,
   "metadata": {},
   "outputs": [
    {
     "data": {
      "image/png": "[encoded data removed]",
      "text/plain": [
       "<Figure size 1152x360 with 5 Axes>"
      ]
     },
     "metadata": {},
     "output_type": "display_data"
    },
    {
     "data": {
      "text/plain": [
       "<Figure size 360x432 with 0 Axes>"
      ]
     },
     "metadata": {},
     "output_type": "display_data"
    }
   ],
   "source": [
    "draw_plot(metrics_df)"
   ]
  }
 ],
 "metadata": {
  "kernelspec": {
   "display_name": "Python 3",
   "language": "python",
   "name": "python3"
  },
  "language_info": {
   "codemirror_mode": {
    "name": "ipython",
    "version": 3
   },
   "file_extension": ".py",
   "mimetype": "text/x-python",
   "name": "python",
   "nbconvert_exporter": "python",
   "pygments_lexer": "ipython3",
   "version": "3.7.3"
  }
 },
 "nbformat": 4,
 "nbformat_minor": 4
}
